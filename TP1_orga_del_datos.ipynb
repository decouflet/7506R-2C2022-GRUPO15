{
  "cells": [
    {
      "cell_type": "markdown",
      "metadata": {
        "colab_type": "text",
        "id": "view-in-github"
      },
      "source": [
        "<a href=\"https://colab.research.google.com/github/decouflet/7506R-2C2022-GRUPO15/blob/main/TP1_orga_del_datos.ipynb\" target=\"_parent\"><img src=\"https://colab.research.google.com/assets/colab-badge.svg\" alt=\"Open In Colab\"/></a>"
      ]
    },
    {
      "cell_type": "markdown",
      "metadata": {},
      "source": [
        "TP1"
      ]
    },
    {
      "cell_type": "code",
      "execution_count": 3,
      "metadata": {},
      "outputs": [],
      "source": [
        "#Manipulacion de datos y funciones matemáticas\n",
        "import pandas as pd\n",
        "import numpy as np\n",
        "\n",
        "#Visualizaciones\n",
        "import seaborn as sns\n",
        "import matplotlib.pyplot as plt\n",
        "\n",
        "#Modelo Lineal\n",
        "from sklearn.linear_model import LinearRegression\n",
        "\n",
        "#Metricas para evaluar modelos\n",
        "from sklearn import metrics"
      ]
    },
    {
      "cell_type": "code",
      "execution_count": 5,
      "metadata": {
        "id": "wvrlZgBXPxH6"
      },
      "outputs": [],
      "source": [
        "import pandas as pd\n",
        "\n",
        "properati = pd.read_csv('./properati_argentina_2021.csv')"
      ]
    },
    {
      "cell_type": "code",
      "execution_count": 3,
      "metadata": {
        "colab": {
          "base_uri": "https://localhost:8080/"
        },
        "id": "V_CDlY-nRvte",
        "outputId": "c4721ac6-bc20-4616-8865-021c7c1e8e1c"
      },
      "outputs": [
        {
          "data": {
            "text/plain": [
              "(460154, 20)"
            ]
          },
          "execution_count": 3,
          "metadata": {},
          "output_type": "execute_result"
        }
      ],
      "source": [
        "properati.shape"
      ]
    },
    {
      "cell_type": "markdown",
      "metadata": {},
      "source": [
        "Hay 460154 filas y 20 columnas"
      ]
    },
    {
      "cell_type": "code",
      "execution_count": 4,
      "metadata": {},
      "outputs": [
        {
          "name": "stdout",
          "output_type": "stream",
          "text": [
            "<class 'pandas.core.frame.DataFrame'>\n",
            "RangeIndex: 460154 entries, 0 to 460153\n",
            "Data columns (total 20 columns):\n",
            " #   Column                    Non-Null Count   Dtype  \n",
            "---  ------                    --------------   -----  \n",
            " 0   id                        460154 non-null  object \n",
            " 1   start_date                460154 non-null  object \n",
            " 2   end_date                  460154 non-null  object \n",
            " 3   created_on                460154 non-null  object \n",
            " 4   latitud                   419740 non-null  float64\n",
            " 5   longitud                  419740 non-null  float64\n",
            " 6   place_l2                  460154 non-null  object \n",
            " 7   place_l3                  437665 non-null  object \n",
            " 8   place_l4                  139020 non-null  object \n",
            " 9   place_l5                  2430 non-null    object \n",
            " 10  place_l6                  0 non-null       float64\n",
            " 11  operation                 460154 non-null  object \n",
            " 12  property_type             460154 non-null  object \n",
            " 13  property_rooms            368498 non-null  float64\n",
            " 14  property_bedrooms         344113 non-null  float64\n",
            " 15  property_surface_total    397813 non-null  float64\n",
            " 16  property_surface_covered  427916 non-null  float64\n",
            " 17  property_price            442153 non-null  float64\n",
            " 18  property_currency         441590 non-null  object \n",
            " 19  property_title            460154 non-null  object \n",
            "dtypes: float64(8), object(12)\n",
            "memory usage: 70.2+ MB\n"
          ]
        }
      ],
      "source": [
        "properati.info()"
      ]
    },
    {
      "cell_type": "markdown",
      "metadata": {},
      "source": [
        "Mostramos un poco de informacion en general del dataset"
      ]
    },
    {
      "cell_type": "code",
      "execution_count": 5,
      "metadata": {},
      "outputs": [
        {
          "data": {
            "text/plain": [
              "id                           object\n",
              "start_date                   object\n",
              "end_date                     object\n",
              "created_on                   object\n",
              "latitud                     float64\n",
              "longitud                    float64\n",
              "place_l2                     object\n",
              "place_l3                     object\n",
              "place_l4                     object\n",
              "place_l5                     object\n",
              "place_l6                    float64\n",
              "operation                    object\n",
              "property_type                object\n",
              "property_rooms              float64\n",
              "property_bedrooms           float64\n",
              "property_surface_total      float64\n",
              "property_surface_covered    float64\n",
              "property_price              float64\n",
              "property_currency            object\n",
              "property_title               object\n",
              "dtype: object"
            ]
          },
          "execution_count": 5,
          "metadata": {},
          "output_type": "execute_result"
        }
      ],
      "source": [
        "properati.dtypes"
      ]
    },
    {
      "cell_type": "markdown",
      "metadata": {},
      "source": [
        "Estos son los tipos de las 20 columnas"
      ]
    },
    {
      "cell_type": "code",
      "execution_count": 6,
      "metadata": {},
      "outputs": [
        {
          "data": {
            "text/plain": [
              "id                               0\n",
              "start_date                       0\n",
              "end_date                         0\n",
              "created_on                       0\n",
              "latitud                      40414\n",
              "longitud                     40414\n",
              "place_l2                         0\n",
              "place_l3                     22489\n",
              "place_l4                    321134\n",
              "place_l5                    457724\n",
              "place_l6                    460154\n",
              "operation                        0\n",
              "property_type                    0\n",
              "property_rooms               91656\n",
              "property_bedrooms           116041\n",
              "property_surface_total       62341\n",
              "property_surface_covered     32238\n",
              "property_price               18001\n",
              "property_currency            18564\n",
              "property_title                   0\n",
              "dtype: int64"
            ]
          },
          "execution_count": 6,
          "metadata": {},
          "output_type": "execute_result"
        }
      ],
      "source": [
        "properati.isnull().sum()"
      ]
    },
    {
      "cell_type": "markdown",
      "metadata": {},
      "source": [
        "Vemos que hay filas con datos faltantes"
      ]
    },
    {
      "cell_type": "code",
      "execution_count": 7,
      "metadata": {},
      "outputs": [
        {
          "data": {
            "text/plain": [
              "(94249, 20)"
            ]
          },
          "execution_count": 7,
          "metadata": {},
          "output_type": "execute_result"
        }
      ],
      "source": [
        "\n",
        "properati_casa_depto = properati[properati.property_type.isin(['Casa', 'PH','Departamento'])]\n",
        "properati_zona = properati_casa_depto[properati_casa_depto.place_l2.isin(['Capital Federal'])]\n",
        "properati_operacion = properati_zona[properati_zona.operation.isin(['Venta'])]\n",
        "properati_limpio = properati_operacion[properati_operacion.property_currency.isin(['USD'])]\n",
        "properati_limpio.shape"
      ]
    },
    {
      "cell_type": "markdown",
      "metadata": {},
      "source": [
        "Realizamos filtrado por:\n",
        "    -Tipo de propiedad\n",
        "    -Zona, que corresponda a capital\n",
        "    -Tipo de Operacion\n",
        "    -Tipo de moneda\n",
        "Tomamos en cuenta que es excluyente que los datos no tengan datos faltantes para realizar este primer filtro\n",
        "Vemos que el dataframe reduce su tamaño"
      ]
    },
    {
      "cell_type": "code",
      "execution_count": 8,
      "metadata": {},
      "outputs": [],
      "source": [
        "#CON ESTE COMANDO SE GUARDA\n",
        "#properati_limpio2 = pd.DataFrame(properati_limpio)\n",
        "#properati_limpio2.to_csv('properatilimpio.csv',index = False)"
      ]
    },
    {
      "cell_type": "code",
      "execution_count": 28,
      "metadata": {},
      "outputs": [
        {
          "name": "stdout",
          "output_type": "stream",
          "text": [
            "            latitud      longitud  place_l6  property_rooms  \\\n",
            "count  90519.000000  90519.000000       0.0    93205.000000   \n",
            "mean     -34.591481    -58.449795       NaN        2.822799   \n",
            "std        0.181719      0.292630       NaN        1.426148   \n",
            "min      -53.788624    -71.471192       NaN        1.000000   \n",
            "25%      -34.615975    -58.466522       NaN        2.000000   \n",
            "50%      -34.595790    -58.439000       NaN        3.000000   \n",
            "75%      -34.577413    -58.408862       NaN        4.000000   \n",
            "max      -24.219827    -54.133330       NaN       40.000000   \n",
            "\n",
            "       property_bedrooms  property_surface_total  property_surface_covered  \\\n",
            "count       83262.000000            89405.000000              90895.000000   \n",
            "mean            2.014629              109.092970                 87.931932   \n",
            "std             1.129767              980.401976                990.927129   \n",
            "min            -1.000000               10.000000                  1.000000   \n",
            "25%             1.000000               45.000000                 40.000000   \n",
            "50%             2.000000               65.000000                 58.000000   \n",
            "75%             3.000000              105.000000                 88.000000   \n",
            "max            70.000000           137000.000000             217000.000000   \n",
            "\n",
            "       property_price  \n",
            "count    9.424900e+04  \n",
            "mean     2.262382e+05  \n",
            "std      3.186035e+05  \n",
            "min      5.000000e+03  \n",
            "25%      9.500000e+04  \n",
            "50%      1.439000e+05  \n",
            "75%      2.370000e+05  \n",
            "max      2.140000e+07  \n"
          ]
        },
        {
          "data": {
            "image/png": "[encoded data removed]",
            "text/plain": [
              "<Figure size 640x480 with 1 Axes>"
            ]
          },
          "metadata": {},
          "output_type": "display_data"
        }
      ],
      "source": [
        "properati_limpio.dtypes\n",
        "\n",
        "print(properati_limpio.describe())\n",
        "#Medidas de resumen de las variables cuantitativas continuas \n",
        "\n",
        "ds_agrupado_property_type=properati_limpio.groupby(['property_type']).count()  #Calculo la frecuencia de cada tipo de propiedad\n",
        "\n",
        "eje_y = ds_agrupado_property_type[\"id\"].tolist() # Tomamos del ds de tipos de propiedad la columna \"id\" porque sabemos que todas las propiedades cuentan con ella\n",
        "\n",
        "eje_x = ds_agrupado_property_type.index.tolist() # Tomamos todos los tipos de propiedades\n",
        "\n",
        "plt.locator_params('x', nbins=3)\n",
        "plt.bar(eje_x, eje_y) # Creamos Gráfica\n",
        "\n",
        "plt.ylabel('Property')\n",
        "plt.xlabel('Frecuencia') \n",
        "plt.title('Frecuencia de cada tipo de propiedad')\n",
        " \n",
        "plt.show()"
      ]
    },
    {
      "cell_type": "markdown",
      "metadata": {},
      "source": [
        "Vemos que las columas *start_date, end_date y created_on* son tipo OBJECT, lo cual decidimos pasarlo a su tipo de dato correspondiente el cual es *datetime*"
      ]
    },
    {
      "cell_type": "code",
      "execution_count": 10,
      "metadata": {},
      "outputs": [],
      "source": [
        "#properati_limpio['start_date'].unique().size\n",
        "#properati2 = pd.to_datetime(properati_limpio['start_date'])\n",
        "#properati2.unique()"
      ]
    },
    {
      "cell_type": "code",
      "execution_count": 11,
      "metadata": {},
      "outputs": [],
      "source": [
        "from sklearn.model_selection import train_test_split\n",
        "\n",
        "train_set, train_test = train_test_split(properati_limpio, test_size = 0.2, random_state = 1)\n"
      ]
    }
  ],
  "metadata": {
    "colab": {
      "collapsed_sections": [],
      "include_colab_link": true,
      "provenance": []
    },
    "kernelspec": {
      "display_name": "Python 3.9.1 64-bit",
      "language": "python",
      "name": "python3"
    },
    "language_info": {
      "codemirror_mode": {
        "name": "ipython",
        "version": 3
      },
      "file_extension": ".py",
      "mimetype": "text/x-python",
      "name": "python",
      "nbconvert_exporter": "python",
      "pygments_lexer": "ipython3",
      "version": "3.9.1"
    },
    "vscode": {
      "interpreter": {
        "hash": "11938c6bc6919ae2720b4d5011047913343b08a43b18698fd82dedb0d4417594"
      }
    }
  },
  "nbformat": 4,
  "nbformat_minor": 0
}
