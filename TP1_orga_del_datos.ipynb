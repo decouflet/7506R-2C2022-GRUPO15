{
  "cells": [
    {
      "cell_type": "markdown",
      "metadata": {
        "id": "jXw9vVmEO0oB"
      },
      "source": [
        "# TP1"
      ]
    },
    {
      "cell_type": "markdown",
      "source": [
        "## Análisis Exploratorio y Preprocesamiento de Datos"
      ],
      "metadata": {
        "id": "AT5QhaOmauxS"
      }
    },
    {
      "cell_type": "markdown",
      "source": [
        "### Exploración Inicial"
      ],
      "metadata": {
        "id": "SM-2sFnGazyf"
      }
    },
    {
      "cell_type": "code",
      "execution_count": 8,
      "metadata": {
        "id": "XAU0dqHUO0oH"
      },
      "outputs": [],
      "source": [
        "#Manipulacion de datos y funciones matemáticas\n",
        "import pandas as pd\n",
        "import numpy as np\n",
        "\n",
        "#Visualizaciones\n",
        "import seaborn as sns\n",
        "import matplotlib.pyplot as plt\n",
        "\n",
        "#Modelo Lineal\n",
        "from sklearn.linear_model import LinearRegression\n",
        "\n",
        "#Metricas para evaluar modelos\n",
        "from sklearn import metrics"
      ]
    },
    {
      "cell_type": "code",
      "execution_count": 9,
      "metadata": {
        "id": "wvrlZgBXPxH6"
      },
      "outputs": [],
      "source": [
        "import pandas as pd\n",
        "\n",
        "properati = pd.read_csv('./properati_argentina_2021.csv')"
      ]
    },
    {
      "cell_type": "code",
      "execution_count": 10,
      "metadata": {
        "colab": {
          "base_uri": "https://localhost:8080/"
        },
        "id": "V_CDlY-nRvte",
        "outputId": "3975e460-3adb-4f73-fb7b-04b08aaa60ba"
      },
      "outputs": [
        {
          "output_type": "execute_result",
          "data": {
            "text/plain": [
              "(171643, 20)"
            ]
          },
          "metadata": {},
          "execution_count": 10
        }
      ],
      "source": [
        "properati.shape"
      ]
    },
    {
      "cell_type": "markdown",
      "metadata": {
        "id": "JCUN5l7iO0oL"
      },
      "source": [
        "Hay 460154 filas y 20 columnas"
      ]
    },
    {
      "cell_type": "code",
      "execution_count": 11,
      "metadata": {
        "id": "N7voXjc6O0oM",
        "outputId": "57ac1553-d5cd-4d95-cc1e-cc47eabfceeb",
        "colab": {
          "base_uri": "https://localhost:8080/"
        }
      },
      "outputs": [
        {
          "output_type": "stream",
          "name": "stdout",
          "text": [
            "<class 'pandas.core.frame.DataFrame'>\n",
            "RangeIndex: 171643 entries, 0 to 171642\n",
            "Data columns (total 20 columns):\n",
            " #   Column                    Non-Null Count   Dtype  \n",
            "---  ------                    --------------   -----  \n",
            " 0   id                        171643 non-null  object \n",
            " 1   start_date                171643 non-null  object \n",
            " 2   end_date                  171643 non-null  object \n",
            " 3   created_on                171643 non-null  object \n",
            " 4   latitud                   156240 non-null  float64\n",
            " 5   longitud                  156240 non-null  float64\n",
            " 6   place_l2                  171643 non-null  object \n",
            " 7   place_l3                  163261 non-null  object \n",
            " 8   place_l4                  50597 non-null   object \n",
            " 9   place_l5                  892 non-null     object \n",
            " 10  place_l6                  0 non-null       float64\n",
            " 11  operation                 171643 non-null  object \n",
            " 12  property_type             171643 non-null  object \n",
            " 13  property_rooms            138452 non-null  float64\n",
            " 14  property_bedrooms         129699 non-null  float64\n",
            " 15  property_surface_total    149021 non-null  float64\n",
            " 16  property_surface_covered  158739 non-null  float64\n",
            " 17  property_price            164717 non-null  float64\n",
            " 18  property_currency         164500 non-null  object \n",
            " 19  property_title            171643 non-null  object \n",
            "dtypes: float64(8), object(12)\n",
            "memory usage: 26.2+ MB\n"
          ]
        }
      ],
      "source": [
        "properati.info()"
      ]
    },
    {
      "cell_type": "markdown",
      "metadata": {
        "id": "XNztoHvIO0oM"
      },
      "source": [
        "Mostramos un poco de informacion en general del dataset"
      ]
    },
    {
      "cell_type": "code",
      "execution_count": 12,
      "metadata": {
        "id": "NPnmXDlTO0oN",
        "outputId": "8d6771bc-2d6d-4a05-d142-3bfc2deaa593",
        "colab": {
          "base_uri": "https://localhost:8080/"
        }
      },
      "outputs": [
        {
          "output_type": "execute_result",
          "data": {
            "text/plain": [
              "id                           object\n",
              "start_date                   object\n",
              "end_date                     object\n",
              "created_on                   object\n",
              "latitud                     float64\n",
              "longitud                    float64\n",
              "place_l2                     object\n",
              "place_l3                     object\n",
              "place_l4                     object\n",
              "place_l5                     object\n",
              "place_l6                    float64\n",
              "operation                    object\n",
              "property_type                object\n",
              "property_rooms              float64\n",
              "property_bedrooms           float64\n",
              "property_surface_total      float64\n",
              "property_surface_covered    float64\n",
              "property_price              float64\n",
              "property_currency            object\n",
              "property_title               object\n",
              "dtype: object"
            ]
          },
          "metadata": {},
          "execution_count": 12
        }
      ],
      "source": [
        "properati.dtypes"
      ]
    },
    {
      "cell_type": "markdown",
      "metadata": {
        "id": "rSkJL73rO0oO"
      },
      "source": [
        "Estos son los tipos de las 20 columnas"
      ]
    },
    {
      "cell_type": "code",
      "execution_count": 13,
      "metadata": {
        "id": "sMrU4kqlO0oP",
        "outputId": "292399ee-2efe-4e77-bcde-ce2cb29e5977",
        "colab": {
          "base_uri": "https://localhost:8080/"
        }
      },
      "outputs": [
        {
          "output_type": "execute_result",
          "data": {
            "text/plain": [
              "id                               0\n",
              "start_date                       0\n",
              "end_date                         0\n",
              "created_on                       0\n",
              "latitud                      15403\n",
              "longitud                     15403\n",
              "place_l2                         0\n",
              "place_l3                      8382\n",
              "place_l4                    121046\n",
              "place_l5                    170751\n",
              "place_l6                    171643\n",
              "operation                        0\n",
              "property_type                    0\n",
              "property_rooms               33191\n",
              "property_bedrooms            41944\n",
              "property_surface_total       22622\n",
              "property_surface_covered     12904\n",
              "property_price                6926\n",
              "property_currency             7143\n",
              "property_title                   0\n",
              "dtype: int64"
            ]
          },
          "metadata": {},
          "execution_count": 13
        }
      ],
      "source": [
        "properati.isnull().sum()"
      ]
    },
    {
      "cell_type": "markdown",
      "metadata": {
        "id": "eV_ETBqaO0oP"
      },
      "source": [
        "Vemos que hay filas con datos faltantes"
      ]
    },
    {
      "cell_type": "code",
      "execution_count": 14,
      "metadata": {
        "id": "K8N6BbWtO0oQ",
        "outputId": "4ac88109-3690-4cb4-b8c9-3a32f6089856",
        "colab": {
          "base_uri": "https://localhost:8080/"
        }
      },
      "outputs": [
        {
          "output_type": "execute_result",
          "data": {
            "text/plain": [
              "(35468, 20)"
            ]
          },
          "metadata": {},
          "execution_count": 14
        }
      ],
      "source": [
        "\n",
        "properati_casa_depto = properati[properati.property_type.isin(['Casa', 'PH','Departamento'])]\n",
        "properati_zona = properati_casa_depto[properati_casa_depto.place_l2.isin(['Capital Federal'])]\n",
        "properati_operacion = properati_zona[properati_zona.operation.isin(['Venta'])]\n",
        "properati_limpio = properati_operacion[properati_operacion.property_currency.isin(['USD'])]\n",
        "properati_limpio.shape"
      ]
    },
    {
      "cell_type": "markdown",
      "metadata": {
        "id": "8ZRrTRaUO0oQ"
      },
      "source": [
        "Realizamos filtrado por:\n",
        "*   Tipo de propiedad\n",
        "*   Zona, que corresponda a capital\n",
        "*   Tipo de Operación\n",
        "*   Tipo de moneda\n",
        "\n",
        "\n",
        "Tomamos en cuenta que es excluyente que los datos no tengan datos faltantes para realizar este primer filtro\n",
        "Vemos que el dataframe reduce su tamaño."
      ]
    },
    {
      "cell_type": "code",
      "execution_count": 15,
      "metadata": {
        "id": "SHTwY5eWO0oR"
      },
      "outputs": [],
      "source": [
        "#CON ESTE COMANDO SE GUARDA\n",
        "#properati_limpio2 = pd.DataFrame(properati_limpio)\n",
        "#properati_limpio2.to_csv('properatilimpio.csv',index = False)"
      ]
    },
    {
      "cell_type": "code",
      "source": [
        "from matplotlib import figure\n",
        "\n",
        "\n",
        "print(properati_limpio.dtypes) #Esto se debería mostrar?"
      ],
      "metadata": {
        "id": "C0LJG96QQEZ2",
        "outputId": "1d11d98f-6aae-4231-fe26-02aa3a337bea",
        "colab": {
          "base_uri": "https://localhost:8080/"
        }
      },
      "execution_count": 27,
      "outputs": [
        {
          "output_type": "stream",
          "name": "stdout",
          "text": [
            "id                           object\n",
            "start_date                   object\n",
            "end_date                     object\n",
            "created_on                   object\n",
            "latitud                     float64\n",
            "longitud                    float64\n",
            "place_l2                     object\n",
            "place_l3                     object\n",
            "place_l4                     object\n",
            "place_l5                     object\n",
            "place_l6                    float64\n",
            "operation                    object\n",
            "property_type                object\n",
            "property_rooms              float64\n",
            "property_bedrooms           float64\n",
            "property_surface_total      float64\n",
            "property_surface_covered    float64\n",
            "property_price              float64\n",
            "property_currency            object\n",
            "property_title               object\n",
            "dtype: object\n"
          ]
        }
      ]
    },
    {
      "cell_type": "markdown",
      "metadata": {
        "id": "eec6mlAGO0oS"
      },
      "source": [
        "Vemos que las columas *start_date, end_date y created_on* son tipo OBJECT, lo cual decidimos pasarlo a su tipo de dato correspondiente el cual es *datetime*"
      ]
    },
    {
      "cell_type": "code",
      "execution_count": 28,
      "metadata": {
        "id": "XamNEbBYO0oS"
      },
      "outputs": [],
      "source": [
        "#properati_limpio['start_date'].unique().size\n",
        "#properati2 = pd.to_datetime(properati_limpio['start_date'])\n",
        "#properati2.unique()"
      ]
    },
    {
      "cell_type": "code",
      "source": [
        "print(properati_limpio.describe())"
      ],
      "metadata": {
        "id": "oqj3RoViVoiV",
        "outputId": "7f351109-79d4-497b-9195-df20d278809e",
        "colab": {
          "base_uri": "https://localhost:8080/"
        }
      },
      "execution_count": 29,
      "outputs": [
        {
          "output_type": "stream",
          "name": "stdout",
          "text": [
            "            latitud      longitud  place_l6  property_rooms  \\\n",
            "count  33984.000000  33984.000000       0.0    35032.000000   \n",
            "mean     -34.589246    -58.454981       NaN        2.810316   \n",
            "std        0.200089      0.340519       NaN        1.451730   \n",
            "min      -41.168947    -71.471192       NaN        1.000000   \n",
            "25%      -34.616113    -58.466816       NaN        2.000000   \n",
            "50%      -34.595734    -58.439289       NaN        3.000000   \n",
            "75%      -34.577247    -58.408814       NaN        4.000000   \n",
            "max      -24.770804    -56.682310       NaN       36.000000   \n",
            "\n",
            "       property_bedrooms  property_surface_total  property_surface_covered  \\\n",
            "count       31340.000000            33611.000000              34083.000000   \n",
            "mean            2.011997              105.514117                 90.373676   \n",
            "std             1.201054              968.083399               1276.571877   \n",
            "min             1.000000               10.000000                  1.000000   \n",
            "25%             1.000000               45.000000                 40.000000   \n",
            "50%             2.000000               65.000000                 57.000000   \n",
            "75%             3.000000              103.000000                 87.000000   \n",
            "max            70.000000           137000.000000             217000.000000   \n",
            "\n",
            "       property_price  \n",
            "count    3.546800e+04  \n",
            "mean     2.260113e+05  \n",
            "std      3.326713e+05  \n",
            "min      5.000000e+03  \n",
            "25%      9.500000e+04  \n",
            "50%      1.440000e+05  \n",
            "75%      2.350000e+05  \n",
            "max      2.140000e+07  \n"
          ]
        }
      ]
    },
    {
      "cell_type": "markdown",
      "source": [
        "Mostramos las medidas de resumen de las variables cuantitativas continuas. Nos interesa principalmente para la cantidad de ambientes y habitaciones, las superficies y el precio de las propiedades."
      ],
      "metadata": {
        "id": "uCmocKcqQbZl"
      }
    },
    {
      "cell_type": "code",
      "execution_count": 30,
      "metadata": {
        "id": "n4CCkPKyO0oR",
        "outputId": "2ac0b51f-3a00-40cd-cc3d-b6aabf8d6a50",
        "colab": {
          "base_uri": "https://localhost:8080/",
          "height": 1000
        }
      },
      "outputs": [
        {
          "output_type": "stream",
          "name": "stdout",
          "text": [
            "La cantidad de valores posibles para el tipo de propiedad es 3.\n"
          ]
        },
        {
          "output_type": "display_data",
          "data": {
            "text/plain": [
              "<Figure size 432x288 with 1 Axes>"
            ],
            "image/png": "[encoded data removed]"
          },
          "metadata": {
            "needs_background": "light"
          }
        },
        {
          "output_type": "stream",
          "name": "stdout",
          "text": [
            "La cantidad de valores posibles para los barrios es 56.\n"
          ]
        },
        {
          "output_type": "display_data",
          "data": {
            "text/plain": [
              "<Figure size 1440x1440 with 1 Axes>"
            ],
            "image/png": "[encoded data removed]"
          },
          "metadata": {
            "needs_background": "light"
          }
        }
      ],
      "source": [
        "#Se podria agregar una nueva variable la cual se llame STATUS y tenga tres posibles valores: barato, medio o caro. Basandose en el precio de la propiedad\n",
        "#y separarlos guiandonos por los cuartiles de esta variable\n",
        "\n",
        "ds_agrupado_property_type=properati_limpio.groupby(['property_type']).count()  #Calculo la frecuencia de cada tipo de propiedad\n",
        "\n",
        "eje_y = ds_agrupado_property_type[\"id\"].tolist() # Tomamos del ds de tipos de propiedad la columna \"id\" porque sabemos que todas las propiedades cuentan con ella\n",
        "\n",
        "eje_x = ds_agrupado_property_type.index.tolist() # Tomamos todos los tipos de propiedades\n",
        "\n",
        "print(\"La cantidad de valores posibles para el tipo de propiedad es \" + str(len(eje_x)) + \".\")\n",
        "\n",
        "plt.locator_params('x', nbins=3)\n",
        "plt.bar(eje_x, eje_y)\n",
        "\n",
        "plt.ylabel('Property')\n",
        "plt.title('Frecuencia de cada tipo de propiedad')\n",
        " \n",
        "plt.show()\n",
        "\n",
        "ds_agrupado_place_l3=properati_limpio.groupby(['place_l3']).count()  #Calculo la frecuencia de cada barrio\n",
        "\n",
        "eje_y = ds_agrupado_place_l3[\"id\"].tolist() # Tomamos del ds de barrios la columna \"id\" porque sabemos que todas las propiedades cuentan con ella\n",
        "\n",
        "eje_x = ds_agrupado_place_l3.index.tolist() # Tomamos todos los posibles barrios\n",
        "\n",
        "print(\"La cantidad de valores posibles para los barrios es \" + str(len(eje_x)) + \".\")\n",
        "\n",
        "plt.figure(figsize=(20, 20))\n",
        "plt.locator_params('x', nbins=3)\n",
        "plt.barh(eje_x, eje_y)\n",
        "plt.ylabel('Barrio')\n",
        "plt.title('Frecuencia de cada barrio')\n",
        "plt.show()"
      ]
    },
    {
      "cell_type": "markdown",
      "source": [
        "Analizamos las variables cualtiativas, indicando la cantidad de valores posibles y su frecuencia."
      ],
      "metadata": {
        "id": "yVd2-_ZhWX1R"
      }
    },
    {
      "cell_type": "code",
      "execution_count": 40,
      "metadata": {
        "id": "bDuQewKyO0oT",
        "outputId": "589c13c4-9d5d-4e3f-c127-5b5df37ee665",
        "colab": {
          "base_uri": "https://localhost:8080/",
          "height": 462
        }
      },
      "outputs": [
        {
          "output_type": "execute_result",
          "data": {
            "text/plain": [
              "                          id  start_date    end_date  created_on    latitud  \\\n",
              "25  CyZu6IaZgmQYGk8jmPajCg==  2021-09-09  2021-09-26  2021-09-09        NaN   \n",
              "42  d3Z0MblSb2IMBoOBMGJEEQ==  2021-09-09  2021-09-26  2021-09-09 -34.637319   \n",
              "43  rL7qPkQnomsMGu2ViS3sBw==  2021-09-09  2021-09-28  2021-09-09 -34.628647   \n",
              "49  vuX/ccLAMVml4qWRFcOJUA==  2021-09-09  2022-01-05  2021-09-09 -34.610027   \n",
              "51  ZTtSCeqZ3HUgf5jjwEzRcw==  2021-09-09  2022-03-09  2021-09-09 -34.631621   \n",
              "\n",
              "     longitud         place_l2 place_l3 place_l4 place_l5  place_l6 operation  \\\n",
              "25        NaN  Capital Federal      NaN      NaN      NaN       NaN     Venta   \n",
              "42 -58.361124  Capital Federal     Boca      NaN      NaN       NaN     Venta   \n",
              "43 -58.361871  Capital Federal     Boca      NaN      NaN       NaN     Venta   \n",
              "49 -58.401934  Capital Federal     Once      NaN      NaN       NaN     Venta   \n",
              "51 -58.416825  Capital Federal    Boedo      NaN      NaN       NaN     Venta   \n",
              "\n",
              "   property_type  property_rooms  property_bedrooms  property_surface_total  \\\n",
              "25          Casa             4.0                3.0                   171.0   \n",
              "42  Departamento             3.0                2.0                    58.0   \n",
              "43  Departamento             4.0                3.0                    70.0   \n",
              "49  Departamento             4.0                2.0                     NaN   \n",
              "51            PH             4.0                2.0                     NaN   \n",
              "\n",
              "    property_surface_covered  property_price property_currency  \\\n",
              "25                     133.0        210000.0               USD   \n",
              "42                      55.0         82900.0               USD   \n",
              "43                      70.0         99000.0               USD   \n",
              "49                     104.0        146000.0               USD   \n",
              "51                      73.0        250000.0               USD   \n",
              "\n",
              "                                 property_title  \n",
              "25  VENTA CASA LLAVE EN MANO - COSTA ESMERALDA   \n",
              "42       VENTA TRES AMBIENTES LA BOCA PISO ALTO  \n",
              "43   Departamento - 4 Ambientes - Catalinas Sur  \n",
              "49          Venta departamento 4 ambientes Once  \n",
              "51                                   PH - Boedo  "
            ],
            "text/html": [
              "\n",
              "  <div id=\"df-9d7293d1-6efd-410b-b2da-486f6aea9be3\">\n",
              "    <div class=\"colab-df-container\">\n",
              "      <div>\n",
              "<style scoped>\n",
              "    .dataframe tbody tr th:only-of-type {\n",
              "        vertical-align: middle;\n",
              "    }\n",
              "\n",
              "    .dataframe tbody tr th {\n",
              "        vertical-align: top;\n",
              "    }\n",
              "\n",
              "    .dataframe thead th {\n",
              "        text-align: right;\n",
              "    }\n",
              "</style>\n",
              "<table border=\"1\" class=\"dataframe\">\n",
              "  <thead>\n",
              "    <tr style=\"text-align: right;\">\n",
              "      <th></th>\n",
              "      <th>id</th>\n",
              "      <th>start_date</th>\n",
              "      <th>end_date</th>\n",
              "      <th>created_on</th>\n",
              "      <th>latitud</th>\n",
              "      <th>longitud</th>\n",
              "      <th>place_l2</th>\n",
              "      <th>place_l3</th>\n",
              "      <th>place_l4</th>\n",
              "      <th>place_l5</th>\n",
              "      <th>place_l6</th>\n",
              "      <th>operation</th>\n",
              "      <th>property_type</th>\n",
              "      <th>property_rooms</th>\n",
              "      <th>property_bedrooms</th>\n",
              "      <th>property_surface_total</th>\n",
              "      <th>property_surface_covered</th>\n",
              "      <th>property_price</th>\n",
              "      <th>property_currency</th>\n",
              "      <th>property_title</th>\n",
              "    </tr>\n",
              "  </thead>\n",
              "  <tbody>\n",
              "    <tr>\n",
              "      <th>25</th>\n",
              "      <td>CyZu6IaZgmQYGk8jmPajCg==</td>\n",
              "      <td>2021-09-09</td>\n",
              "      <td>2021-09-26</td>\n",
              "      <td>2021-09-09</td>\n",
              "      <td>NaN</td>\n",
              "      <td>NaN</td>\n",
              "      <td>Capital Federal</td>\n",
              "      <td>NaN</td>\n",
              "      <td>NaN</td>\n",
              "      <td>NaN</td>\n",
              "      <td>NaN</td>\n",
              "      <td>Venta</td>\n",
              "      <td>Casa</td>\n",
              "      <td>4.0</td>\n",
              "      <td>3.0</td>\n",
              "      <td>171.0</td>\n",
              "      <td>133.0</td>\n",
              "      <td>210000.0</td>\n",
              "      <td>USD</td>\n",
              "      <td>VENTA CASA LLAVE EN MANO - COSTA ESMERALDA</td>\n",
              "    </tr>\n",
              "    <tr>\n",
              "      <th>42</th>\n",
              "      <td>d3Z0MblSb2IMBoOBMGJEEQ==</td>\n",
              "      <td>2021-09-09</td>\n",
              "      <td>2021-09-26</td>\n",
              "      <td>2021-09-09</td>\n",
              "      <td>-34.637319</td>\n",
              "      <td>-58.361124</td>\n",
              "      <td>Capital Federal</td>\n",
              "      <td>Boca</td>\n",
              "      <td>NaN</td>\n",
              "      <td>NaN</td>\n",
              "      <td>NaN</td>\n",
              "      <td>Venta</td>\n",
              "      <td>Departamento</td>\n",
              "      <td>3.0</td>\n",
              "      <td>2.0</td>\n",
              "      <td>58.0</td>\n",
              "      <td>55.0</td>\n",
              "      <td>82900.0</td>\n",
              "      <td>USD</td>\n",
              "      <td>VENTA TRES AMBIENTES LA BOCA PISO ALTO</td>\n",
              "    </tr>\n",
              "    <tr>\n",
              "      <th>43</th>\n",
              "      <td>rL7qPkQnomsMGu2ViS3sBw==</td>\n",
              "      <td>2021-09-09</td>\n",
              "      <td>2021-09-28</td>\n",
              "      <td>2021-09-09</td>\n",
              "      <td>-34.628647</td>\n",
              "      <td>-58.361871</td>\n",
              "      <td>Capital Federal</td>\n",
              "      <td>Boca</td>\n",
              "      <td>NaN</td>\n",
              "      <td>NaN</td>\n",
              "      <td>NaN</td>\n",
              "      <td>Venta</td>\n",
              "      <td>Departamento</td>\n",
              "      <td>4.0</td>\n",
              "      <td>3.0</td>\n",
              "      <td>70.0</td>\n",
              "      <td>70.0</td>\n",
              "      <td>99000.0</td>\n",
              "      <td>USD</td>\n",
              "      <td>Departamento - 4 Ambientes - Catalinas Sur</td>\n",
              "    </tr>\n",
              "    <tr>\n",
              "      <th>49</th>\n",
              "      <td>vuX/ccLAMVml4qWRFcOJUA==</td>\n",
              "      <td>2021-09-09</td>\n",
              "      <td>2022-01-05</td>\n",
              "      <td>2021-09-09</td>\n",
              "      <td>-34.610027</td>\n",
              "      <td>-58.401934</td>\n",
              "      <td>Capital Federal</td>\n",
              "      <td>Once</td>\n",
              "      <td>NaN</td>\n",
              "      <td>NaN</td>\n",
              "      <td>NaN</td>\n",
              "      <td>Venta</td>\n",
              "      <td>Departamento</td>\n",
              "      <td>4.0</td>\n",
              "      <td>2.0</td>\n",
              "      <td>NaN</td>\n",
              "      <td>104.0</td>\n",
              "      <td>146000.0</td>\n",
              "      <td>USD</td>\n",
              "      <td>Venta departamento 4 ambientes Once</td>\n",
              "    </tr>\n",
              "    <tr>\n",
              "      <th>51</th>\n",
              "      <td>ZTtSCeqZ3HUgf5jjwEzRcw==</td>\n",
              "      <td>2021-09-09</td>\n",
              "      <td>2022-03-09</td>\n",
              "      <td>2021-09-09</td>\n",
              "      <td>-34.631621</td>\n",
              "      <td>-58.416825</td>\n",
              "      <td>Capital Federal</td>\n",
              "      <td>Boedo</td>\n",
              "      <td>NaN</td>\n",
              "      <td>NaN</td>\n",
              "      <td>NaN</td>\n",
              "      <td>Venta</td>\n",
              "      <td>PH</td>\n",
              "      <td>4.0</td>\n",
              "      <td>2.0</td>\n",
              "      <td>NaN</td>\n",
              "      <td>73.0</td>\n",
              "      <td>250000.0</td>\n",
              "      <td>USD</td>\n",
              "      <td>PH - Boedo</td>\n",
              "    </tr>\n",
              "  </tbody>\n",
              "</table>\n",
              "</div>\n",
              "      <button class=\"colab-df-convert\" onclick=\"convertToInteractive('df-9d7293d1-6efd-410b-b2da-486f6aea9be3')\"\n",
              "              title=\"Convert this dataframe to an interactive table.\"\n",
              "              style=\"display:none;\">\n",
              "        \n",
              "  <svg xmlns=\"http://www.w3.org/2000/svg\" height=\"24px\"viewBox=\"0 0 24 24\"\n",
              "       width=\"24px\">\n",
              "    <path d=\"M0 0h24v24H0V0z\" fill=\"none\"/>\n",
              "    <path d=\"M18.56 5.44l.94 2.06.94-2.06 2.06-.94-2.06-.94-.94-2.06-.94 2.06-2.06.94zm-11 1L8.5 8.5l.94-2.06 2.06-.94-2.06-.94L8.5 2.5l-.94 2.06-2.06.94zm10 10l.94 2.06.94-2.06 2.06-.94-2.06-.94-.94-2.06-.94 2.06-2.06.94z\"/><path d=\"M17.41 7.96l-1.37-1.37c-.4-.4-.92-.59-1.43-.59-.52 0-1.04.2-1.43.59L10.3 9.45l-7.72 7.72c-.78.78-.78 2.05 0 2.83L4 21.41c.39.39.9.59 1.41.59.51 0 1.02-.2 1.41-.59l7.78-7.78 2.81-2.81c.8-.78.8-2.07 0-2.86zM5.41 20L4 18.59l7.72-7.72 1.47 1.35L5.41 20z\"/>\n",
              "  </svg>\n",
              "      </button>\n",
              "      \n",
              "  <style>\n",
              "    .colab-df-container {\n",
              "      display:flex;\n",
              "      flex-wrap:wrap;\n",
              "      gap: 12px;\n",
              "    }\n",
              "\n",
              "    .colab-df-convert {\n",
              "      background-color: #E8F0FE;\n",
              "      border: none;\n",
              "      border-radius: 50%;\n",
              "      cursor: pointer;\n",
              "      display: none;\n",
              "      fill: #1967D2;\n",
              "      height: 32px;\n",
              "      padding: 0 0 0 0;\n",
              "      width: 32px;\n",
              "    }\n",
              "\n",
              "    .colab-df-convert:hover {\n",
              "      background-color: #E2EBFA;\n",
              "      box-shadow: 0px 1px 2px rgba(60, 64, 67, 0.3), 0px 1px 3px 1px rgba(60, 64, 67, 0.15);\n",
              "      fill: #174EA6;\n",
              "    }\n",
              "\n",
              "    [theme=dark] .colab-df-convert {\n",
              "      background-color: #3B4455;\n",
              "      fill: #D2E3FC;\n",
              "    }\n",
              "\n",
              "    [theme=dark] .colab-df-convert:hover {\n",
              "      background-color: #434B5C;\n",
              "      box-shadow: 0px 1px 3px 1px rgba(0, 0, 0, 0.15);\n",
              "      filter: drop-shadow(0px 1px 2px rgba(0, 0, 0, 0.3));\n",
              "      fill: #FFFFFF;\n",
              "    }\n",
              "  </style>\n",
              "\n",
              "      <script>\n",
              "        const buttonEl =\n",
              "          document.querySelector('#df-9d7293d1-6efd-410b-b2da-486f6aea9be3 button.colab-df-convert');\n",
              "        buttonEl.style.display =\n",
              "          google.colab.kernel.accessAllowed ? 'block' : 'none';\n",
              "\n",
              "        async function convertToInteractive(key) {\n",
              "          const element = document.querySelector('#df-9d7293d1-6efd-410b-b2da-486f6aea9be3');\n",
              "          const dataTable =\n",
              "            await google.colab.kernel.invokeFunction('convertToInteractive',\n",
              "                                                     [key], {});\n",
              "          if (!dataTable) return;\n",
              "\n",
              "          const docLinkHtml = 'Like what you see? Visit the ' +\n",
              "            '<a target=\"_blank\" href=https://colab.research.google.com/notebooks/data_table.ipynb>data table notebook</a>'\n",
              "            + ' to learn more about interactive tables.';\n",
              "          element.innerHTML = '';\n",
              "          dataTable['output_type'] = 'display_data';\n",
              "          await google.colab.output.renderOutput(dataTable, element);\n",
              "          const docLink = document.createElement('div');\n",
              "          docLink.innerHTML = docLinkHtml;\n",
              "          element.appendChild(docLink);\n",
              "        }\n",
              "      </script>\n",
              "    </div>\n",
              "  </div>\n",
              "  "
            ]
          },
          "metadata": {},
          "execution_count": 40
        }
      ],
      "source": [
        "properati_limpio.head(5)"
      ]
    },
    {
      "cell_type": "markdown",
      "source": [
        "Observando algunas de las filas del dataset limpio podemos observar que tanto el id como el título de las propiedades son variables irrelevantes para el análisis."
      ],
      "metadata": {
        "id": "BUrSFVkMWtVD"
      }
    },
    {
      "cell_type": "code",
      "source": [
        "#Distribucion de:\n",
        "\n",
        "#Ambientes\n",
        "\n",
        "plt.title('Densidad variable rooms')\n",
        "plt.hist(properati_limpio['property_rooms'], bins = 25 , alpha = 1)\n",
        "plt.xlabel(\"Rooms\")\n",
        "plt.ylabel(\"Densidad\")\n",
        "plt.show()\n",
        "#sns_hist=sns.histplot(data=properati_limpio['property_rooms'], kde=True, alpha = 1).set(title=\"Densidad variable rooms\",xlabel=\"Rooms\",ylabel=\"Densidad\")\n",
        "#plt.show()\n",
        "\n",
        "#Habitaciones\n",
        "\n",
        "plt.title('Densidad variable bedrooms')\n",
        "plt.hist(properati_limpio['property_bedrooms'],  bins = 50 , alpha = 1)\n",
        "plt.locator_params(\"x\", nbins=30)\n",
        "plt.xlabel(\"Bedrooms\")\n",
        "plt.ylabel(\"Densidad\")\n",
        "plt.show()\n",
        "#sns_hist=sns.histplot(data=properati_limpio['property_bedrooms'], kde=True, alpha = 1).set(title=\"Densidad variable bedrooms\",xlabel=\"Bedrooms\",ylabel=\"Densidad\")\n",
        "#plt.show()"
      ],
      "metadata": {
        "id": "6EQC7rafZfMT",
        "outputId": "70e769da-9088-4d20-b628-77d4cc05bf82",
        "colab": {
          "base_uri": "https://localhost:8080/",
          "height": 573
        }
      },
      "execution_count": 37,
      "outputs": [
        {
          "output_type": "display_data",
          "data": {
            "text/plain": [
              "<Figure size 432x288 with 1 Axes>"
            ],
            "image/png": "[encoded data removed]"
          },
          "metadata": {
            "needs_background": "light"
          }
        },
        {
          "output_type": "display_data",
          "data": {
            "text/plain": [
              "<Figure size 432x288 with 1 Axes>"
            ],
            "image/png": "[encoded data removed]"
          },
          "metadata": {
            "needs_background": "light"
          }
        }
      ]
    },
    {
      "cell_type": "markdown",
      "source": [
        "Ambos graficos de distribucion nos dicen que la cantidad de ambientes y habitaciones ronda entre 0 y 5 en la mayoria de las propiedades. Tambien se observan valores atipicos: Propiedades con 40 ambientes y 70 habitaciones a los que hay que hacerle un tratamiento para que el grafico sea mas claro modificando/eliminando estos valores que hacen complicada la interpretacion del grafico.\n",
        "\n",
        "Un buen tratamiento para los datos faltantes de las variables del numero de habitaciones y ambientes seria una regresion lineal con el precio de la propiedad, es decir que en base a su precio se calcule la cantidad de ambientes y habitaciones."
      ],
      "metadata": {
        "id": "QB49oYSxZrOb"
      }
    },
    {
      "cell_type": "code",
      "source": [
        "#Superficie\n",
        "plt.title('Densidad variable surface')\n",
        "plt.hist(properati_limpio['property_surface_total'], bins = 25 , alpha = 1)\n",
        "plt.xlabel(\"Surface\")\n",
        "plt.ylabel(\"Densidad\")\n",
        "plt.show()\n",
        "#sns_hist=sns.histplot(data=properati_limpio['property_surface_total'], kde=True, alpha = 1).set(title=\"Densidad variable surface\",xlabel=\"Surface\",ylabel=\"Densidad\")\n",
        "#plt.show()\n",
        "\n",
        "#Precio\n",
        "plt.title('Densidad variable price')\n",
        "plt.hist(properati_limpio['property_price'], bins = 25 , alpha = 1)\n",
        "plt.xlabel(\"Price\")\n",
        "plt.ylabel(\"Densidad\")\n",
        "plt.show()\n",
        "#sns_hist=sns.histplot(data=properati_limpio['property_price'], kde=True, alpha = 1).set(title=\"Densidad variable price\",xlabel=\"Price\",ylabel=\"Densidad\")\n",
        "#plt.show()"
      ],
      "metadata": {
        "id": "j3ooE0SlXdfr",
        "outputId": "1aaccf03-3568-4c4e-a059-f6c489a06f71",
        "colab": {
          "base_uri": "https://localhost:8080/",
          "height": 573
        }
      },
      "execution_count": 38,
      "outputs": [
        {
          "output_type": "display_data",
          "data": {
            "text/plain": [
              "<Figure size 432x288 with 1 Axes>"
            ],
            "image/png": "[encoded data removed]"
          },
          "metadata": {
            "needs_background": "light"
          }
        },
        {
          "output_type": "display_data",
          "data": {
            "text/plain": [
              "<Figure size 432x288 with 1 Axes>"
            ],
            "image/png": "[encoded data removed]"
          },
          "metadata": {
            "needs_background": "light"
          }
        }
      ]
    },
    {
      "cell_type": "markdown",
      "source": [
        "TODO: Realizar un análisis gráfico de las distribuciones de las variables superficie y precio.\n"
      ],
      "metadata": {
        "id": "daPmQRsbW1vt"
      }
    },
    {
      "cell_type": "code",
      "source": [
        "#Heatmap de la correlacion de Pearson entre las variables\n",
        "\n",
        "matriz_corr_properati = properati_limpio.corr()\n",
        "\n",
        "plt.figure(figsize = (8,4))\n",
        "sns.heatmap(matriz_corr_properati, annot = True, cmap='coolwarm')\n",
        "plt.show()"
      ],
      "metadata": {
        "id": "efJVZPeOXMw7",
        "outputId": "07f0354d-c68d-4fc7-ee88-e9bc3f981a50",
        "colab": {
          "base_uri": "https://localhost:8080/",
          "height": 389
        }
      },
      "execution_count": 34,
      "outputs": [
        {
          "output_type": "display_data",
          "data": {
            "text/plain": [
              "<Figure size 576x288 with 2 Axes>"
            ],
            "image/png": "[encoded data removed]"
          },
          "metadata": {
            "needs_background": "light"
          }
        }
      ]
    },
    {
      "cell_type": "markdown",
      "source": [
        "Como vemos en el mapa de calor las variables de cantidad de habitaciones y cantidad de ambientes estan furtemente correlacionadas ya que el valor de su correlacion de Pearson es cercano a 1."
      ],
      "metadata": {
        "id": "bz0b4a2JW44A"
      }
    },
    {
      "cell_type": "markdown",
      "source": [
        "TODO: Eliminar la variable place_16 o cambiarle el tipo de dato a object ???"
      ],
      "metadata": {
        "id": "r7UDaesue0dW"
      }
    },
    {
      "cell_type": "markdown",
      "source": [
        "TODO: A partir de este análisis generar conclusiones sobre los datos."
      ],
      "metadata": {
        "id": "3bCf5pJJfL8W"
      }
    },
    {
      "cell_type": "markdown",
      "source": [
        "### Datos Faltantes"
      ],
      "metadata": {
        "id": "swfuL9cwbUM0"
      }
    },
    {
      "cell_type": "markdown",
      "metadata": {
        "id": "OawVom4-O0oU"
      },
      "source": [
        "DEBATIR CUAL DE LOS 2 SIGUIENTES GRAFICOS ES EL QUE PIDE LA CONSIGNA"
      ]
    },
    {
      "cell_type": "code",
      "execution_count": 39,
      "metadata": {
        "id": "5s7R55J9O0oV",
        "outputId": "07b7b4ca-c1e4-4786-f669-a0ba994128a7",
        "colab": {
          "base_uri": "https://localhost:8080/",
          "height": 416
        }
      },
      "outputs": [
        {
          "output_type": "execute_result",
          "data": {
            "text/plain": [
              "<matplotlib.axes._subplots.AxesSubplot at 0x7f9d011f1710>"
            ]
          },
          "metadata": {},
          "execution_count": 39
        },
        {
          "output_type": "display_data",
          "data": {
            "text/plain": [
              "<Figure size 432x288 with 1 Axes>"
            ],
            "image/png": "[encoded data removed]"
          },
          "metadata": {
            "needs_background": "light"
          }
        }
      ],
      "source": [
        "# porcentaje de datos faltantes para graficar sobre el total. \n",
        "\n",
        "total = len(properati_limpio)\n",
        "\n",
        "df_porcentaje_datos_faltantes = pd.DataFrame()                  #creo un nuevo dataset de variables para poder graficar\n",
        "\n",
        "df_porcentaje_datos_faltantes['variables'] = ['id','start_date','end_date','created_on','latitud','longitud','place_l2','place_l3','place_l4','place_l5','place_l6','operation','property_type','property_rooms','property_bedrooms','property_surface_total','property_surface_covered','property_price','property_currency','property_title']\n",
        "df_porcentaje_datos_faltantes['porcentaje_faltante'] = [((properati_limpio['id'].isnull().sum() * 100) / total), ((properati_limpio['start_date'].isnull().sum() * 100) / total), ((properati_limpio['end_date'].isnull().sum() * 100) / total),((properati_limpio['created_on'].isnull().sum() * 100) / total),((properati_limpio['latitud'].isnull().sum() * 100) / total),((properati_limpio['longitud'].isnull().sum() * 100) / total),((properati_limpio['place_l2'].isnull().sum() * 100) / total),((properati_limpio['place_l3'].isnull().sum() * 100) / total),((properati_limpio['place_l4'].isnull().sum() * 100) / total),((properati_limpio['place_l5'].isnull().sum() * 100) / total),((properati_limpio['place_l6'].isnull().sum() * 100) / total),((properati_limpio['operation'].isnull().sum() * 100) /total),((properati_limpio['property_type'].isnull().sum() * 100) / total),((properati_limpio['property_rooms'].isnull().sum() * 100) / total),((properati_limpio['property_bedrooms'].isnull().sum() * 100) / total),((properati_limpio['property_surface_total'].isnull().sum() * 100) / total),((properati_limpio['property_surface_covered'].isnull().sum() * 100) / total),((properati_limpio['property_price'].isnull().sum() * 100) / total),((properati_limpio['property_currency'].isnull().sum() * 100) / total),((properati_limpio['property_title'].isnull().sum() * 100) / total)]\n",
        "df_porcentaje_datos_faltantes.groupby('variables')['porcentaje_faltante'].sum().plot(kind='bar')"
      ]
    },
    {
      "cell_type": "code",
      "execution_count": 41,
      "metadata": {
        "id": "QucxfqToO0oV",
        "outputId": "7e95bd5b-56a2-4baf-a8db-0944f12e2706",
        "colab": {
          "base_uri": "https://localhost:8080/",
          "height": 416
        }
      },
      "outputs": [
        {
          "output_type": "execute_result",
          "data": {
            "text/plain": [
              "<matplotlib.axes._subplots.AxesSubplot at 0x7f9d00746a50>"
            ]
          },
          "metadata": {},
          "execution_count": 41
        },
        {
          "output_type": "display_data",
          "data": {
            "text/plain": [
              "<Figure size 432x288 with 1 Axes>"
            ],
            "image/png": "[encoded data removed]"
          },
          "metadata": {
            "needs_background": "light"
          }
        }
      ],
      "source": [
        "# cantidad de datos faltantes para graficar sobre el total. \n",
        "\n",
        "total = len(properati_limpio)\n",
        "\n",
        "df_datos_faltantes = pd.DataFrame()\n",
        "\n",
        "df_datos_faltantes['variables'] = ['id','start_date','end_date','created_on','latitud','longitud','place_l2','place_l3','place_l4','place_l5','place_l6','operation','property_type','property_rooms','property_bedrooms','property_surface_total','property_surface_covered','property_price','property_currency','property_title']\n",
        "df_datos_faltantes['cantidad_datos_faltantes'] = [properati_limpio['id'].isnull().sum(), properati_limpio['start_date'].isnull().sum(), properati_limpio['end_date'].isnull().sum(),properati_limpio['created_on'].isnull().sum(),properati_limpio['latitud'].isnull().sum(), properati_limpio['longitud'].isnull().sum(),properati_limpio['place_l2'].isnull().sum(),properati_limpio['place_l3'].isnull().sum(),properati_limpio['place_l4'].isnull().sum(),properati_limpio['place_l5'].isnull().sum(),properati_limpio['place_l6'].isnull().sum(),properati_limpio['operation'].isnull().sum(),properati_limpio['property_type'].isnull().sum(),properati_limpio['property_rooms'].isnull().sum(),properati_limpio['property_bedrooms'].isnull().sum(),properati_limpio['property_surface_total'].isnull().sum(),properati_limpio['property_surface_covered'].isnull().sum(),properati_limpio['property_price'].isnull().sum(),properati_limpio['property_currency'].isnull().sum(),properati_limpio['property_title'].isnull().sum()]\n",
        "df_datos_faltantes.groupby('variables')['cantidad_datos_faltantes'].sum().plot(kind='bar')"
      ]
    },
    {
      "cell_type": "markdown",
      "source": [
        "TODO: Realizar análisis de datos faltantes a nivel de columna. Graficar para cada variable\n",
        "el porcentaje de datos faltantes con respecto al total del dataset"
      ],
      "metadata": {
        "id": "rhHw1Tzyff9l"
      }
    },
    {
      "cell_type": "markdown",
      "source": [
        "TODO: Realizar un análisis de datos faltantes a nivel de fila. Calcular el porcentaje de\n",
        "datos faltantes de cada registro. Realizar un gráfico que permita conocer la\n",
        "proporción de faltantes por fila en el dataset."
      ],
      "metadata": {
        "id": "YmSZtQo5fiLy"
      }
    },
    {
      "cell_type": "markdown",
      "source": [
        "TODO: Determinar, de ser posible, estrategias para reparar los valores faltantes."
      ],
      "metadata": {
        "id": "pV4POrvJfnZp"
      }
    },
    {
      "cell_type": "markdown",
      "source": [
        "TODO: En caso de realizar imputaciones comparar las distribuciones de cada atributo\n",
        "reparado con la distribución anterior a la imputación de los datos faltantes."
      ],
      "metadata": {
        "id": "C83UzKfsf4Pb"
      }
    },
    {
      "cell_type": "markdown",
      "source": [
        "### Valores atípicos"
      ],
      "metadata": {
        "id": "JiZ5olj_gAMS"
      }
    },
    {
      "cell_type": "markdown",
      "source": [
        "TODO: Detectar valores atípicos en los datos tanto en forma univariada como\n",
        "multivariada. Realizar gráficos que permitan visualizar los valores atípicos."
      ],
      "metadata": {
        "id": "yNqCWrbbgF-U"
      }
    },
    {
      "cell_type": "markdown",
      "source": [
        "TODO: Explicar qué características poseen los datos atípicos detectados."
      ],
      "metadata": {
        "id": "KIcXTni3gLoD"
      }
    },
    {
      "cell_type": "markdown",
      "source": [
        "TODO: Decidir el tratamiento a aplicar sobre los mismos."
      ],
      "metadata": {
        "id": "-v1YVqWrgP8W"
      }
    },
    {
      "cell_type": "markdown",
      "source": [
        "TODO: Analizar la relación entre el precio de venta y los metros de superficie ¿hay\n",
        "valores atípicos que no se detectaron previamente?"
      ],
      "metadata": {
        "id": "1WrnWEsNgT3n"
      }
    },
    {
      "cell_type": "markdown",
      "source": [
        "### Reducción de la dimensionalidad"
      ],
      "metadata": {
        "id": "JIPjMjrPgY5Z"
      }
    },
    {
      "cell_type": "markdown",
      "source": [
        "TODO: Crear un nuevo dataset que\n",
        "resulte de aplicar una reducción de dimensionalidad sobre el dataset que se obtuvo al\n",
        "finalizar el preprocesamiento."
      ],
      "metadata": {
        "id": "dZa0Os_dgeV_"
      }
    },
    {
      "cell_type": "markdown",
      "source": [
        "## Agrupamiento"
      ],
      "metadata": {
        "id": "TzixVrbHgoSF"
      }
    },
    {
      "cell_type": "code",
      "source": [
        "from sklearn.model_selection import train_test_split\n",
        "\n",
        "train_set, train_test = train_test_split(properati_limpio, test_size = 0.2, random_state = 1)\n"
      ],
      "metadata": {
        "id": "HhEi8JEpbSe8"
      },
      "execution_count": null,
      "outputs": []
    }
  ],
  "metadata": {
    "colab": {
      "collapsed_sections": [],
      "provenance": []
    },
    "kernelspec": {
      "display_name": "Python 3.10.8 64-bit (microsoft store)",
      "language": "python",
      "name": "python3"
    },
    "language_info": {
      "codemirror_mode": {
        "name": "ipython",
        "version": 3
      },
      "file_extension": ".py",
      "mimetype": "text/x-python",
      "name": "python",
      "nbconvert_exporter": "python",
      "pygments_lexer": "ipython3",
      "version": "3.10.8"
    },
    "vscode": {
      "interpreter": {
        "hash": "39ba95093929b3bffaa1069aca73371383e1385c3be72dfc1d32fa3b185be5b9"
      }
    }
  },
  "nbformat": 4,
  "nbformat_minor": 0
}