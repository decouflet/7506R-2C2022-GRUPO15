{
  "cells": [
    {
      "cell_type": "markdown",
      "metadata": {
        "colab_type": "text",
        "id": "view-in-github"
      },
      "source": [
        "<a href=\"https://colab.research.google.com/github/decouflet/7506R-2C2022-GRUPO15/blob/main/TP1_orga_del_datos.ipynb\" target=\"_parent\"><img src=\"https://colab.research.google.com/assets/colab-badge.svg\" alt=\"Open In Colab\"/></a>"
      ]
    },
    {
      "cell_type": "markdown",
      "metadata": {},
      "source": [
        "TP1"
      ]
    },
    {
      "cell_type": "code",
      "execution_count": null,
      "metadata": {},
      "outputs": [],
      "source": [
        "#Manipulacion de datos y funciones matemáticas\n",
        "import pandas as pd\n",
        "import numpy as np\n",
        "\n",
        "#Visualizaciones\n",
        "import seaborn as sns\n",
        "import matplotlib.pyplot as plt\n",
        "\n",
        "#Modelo Lineal\n",
        "from sklearn.linear_model import LinearRegression\n",
        "\n",
        "#Metricas para evaluar modelos\n",
        "from sklearn import metrics"
      ]
    },
    {
      "cell_type": "code",
      "execution_count": 6,
      "metadata": {
        "id": "wvrlZgBXPxH6"
      },
      "outputs": [],
      "source": [
        "import pandas as pd\n",
        "\n",
        "properati = pd.read_csv('./properati_argentina_2021.csv')"
      ]
    },
    {
      "cell_type": "code",
      "execution_count": 10,
      "metadata": {
        "colab": {
          "base_uri": "https://localhost:8080/"
        },
        "id": "V_CDlY-nRvte",
        "outputId": "c4721ac6-bc20-4616-8865-021c7c1e8e1c"
      },
      "outputs": [
        {
          "data": {
            "text/plain": [
              "(460154, 20)"
            ]
          },
          "execution_count": 10,
          "metadata": {},
          "output_type": "execute_result"
        }
      ],
      "source": [
        "properati.shape"
      ]
    },
    {
      "cell_type": "markdown",
      "metadata": {},
      "source": [
        "Hay 460154 filas y 20 columnas"
      ]
    },
    {
      "cell_type": "code",
      "execution_count": 11,
      "metadata": {},
      "outputs": [
        {
          "name": "stdout",
          "output_type": "stream",
          "text": [
            "<class 'pandas.core.frame.DataFrame'>\n",
            "RangeIndex: 460154 entries, 0 to 460153\n",
            "Data columns (total 20 columns):\n",
            " #   Column                    Non-Null Count   Dtype  \n",
            "---  ------                    --------------   -----  \n",
            " 0   id                        460154 non-null  object \n",
            " 1   start_date                460154 non-null  object \n",
            " 2   end_date                  460154 non-null  object \n",
            " 3   created_on                460154 non-null  object \n",
            " 4   latitud                   419740 non-null  float64\n",
            " 5   longitud                  419740 non-null  float64\n",
            " 6   place_l2                  460154 non-null  object \n",
            " 7   place_l3                  437665 non-null  object \n",
            " 8   place_l4                  139020 non-null  object \n",
            " 9   place_l5                  2430 non-null    object \n",
            " 10  place_l6                  0 non-null       float64\n",
            " 11  operation                 460154 non-null  object \n",
            " 12  property_type             460154 non-null  object \n",
            " 13  property_rooms            368498 non-null  float64\n",
            " 14  property_bedrooms         344113 non-null  float64\n",
            " 15  property_surface_total    397813 non-null  float64\n",
            " 16  property_surface_covered  427916 non-null  float64\n",
            " 17  property_price            442153 non-null  float64\n",
            " 18  property_currency         441590 non-null  object \n",
            " 19  property_title            460154 non-null  object \n",
            "dtypes: float64(8), object(12)\n",
            "memory usage: 70.2+ MB\n"
          ]
        }
      ],
      "source": [
        "properati.info()"
      ]
    },
    {
      "cell_type": "markdown",
      "metadata": {},
      "source": [
        "Mostramos un poco de informacion en general del dataset"
      ]
    },
    {
      "cell_type": "code",
      "execution_count": 12,
      "metadata": {},
      "outputs": [
        {
          "data": {
            "text/plain": [
              "id                           object\n",
              "start_date                   object\n",
              "end_date                     object\n",
              "created_on                   object\n",
              "latitud                     float64\n",
              "longitud                    float64\n",
              "place_l2                     object\n",
              "place_l3                     object\n",
              "place_l4                     object\n",
              "place_l5                     object\n",
              "place_l6                    float64\n",
              "operation                    object\n",
              "property_type                object\n",
              "property_rooms              float64\n",
              "property_bedrooms           float64\n",
              "property_surface_total      float64\n",
              "property_surface_covered    float64\n",
              "property_price              float64\n",
              "property_currency            object\n",
              "property_title               object\n",
              "dtype: object"
            ]
          },
          "execution_count": 12,
          "metadata": {},
          "output_type": "execute_result"
        }
      ],
      "source": [
        "properati.dtypes"
      ]
    },
    {
      "cell_type": "markdown",
      "metadata": {},
      "source": [
        "Estos son los tipos de las 20 columnas"
      ]
    },
    {
      "cell_type": "code",
      "execution_count": 14,
      "metadata": {},
      "outputs": [
        {
          "data": {
            "text/plain": [
              "id                               0\n",
              "start_date                       0\n",
              "end_date                         0\n",
              "created_on                       0\n",
              "latitud                      40414\n",
              "longitud                     40414\n",
              "place_l2                         0\n",
              "place_l3                     22489\n",
              "place_l4                    321134\n",
              "place_l5                    457724\n",
              "place_l6                    460154\n",
              "operation                        0\n",
              "property_type                    0\n",
              "property_rooms               91656\n",
              "property_bedrooms           116041\n",
              "property_surface_total       62341\n",
              "property_surface_covered     32238\n",
              "property_price               18001\n",
              "property_currency            18564\n",
              "property_title                   0\n",
              "dtype: int64"
            ]
          },
          "execution_count": 14,
          "metadata": {},
          "output_type": "execute_result"
        }
      ],
      "source": [
        "properati.isnull().sum()"
      ]
    },
    {
      "cell_type": "markdown",
      "metadata": {},
      "source": [
        "Vemos que hay filas con datos faltantes"
      ]
    },
    {
      "cell_type": "code",
      "execution_count": 43,
      "metadata": {},
      "outputs": [
        {
          "data": {
            "text/plain": [
              "(94249, 20)"
            ]
          },
          "execution_count": 43,
          "metadata": {},
          "output_type": "execute_result"
        }
      ],
      "source": [
        "\n",
        "properati_casa_depto = properati[properati.property_type.isin(['Casa', 'PH','Departamento'])]\n",
        "properati_zona = properati_casa_depto[properati_casa_depto.place_l2.isin(['Capital Federal'])]\n",
        "properati_operacion = properati_zona[properati_zona.operation.isin(['Venta'])]\n",
        "properati_limpio = properati_operacion[properati_operacion.property_currency.isin(['USD'])]\n",
        "properati_limpio.shape"
      ]
    },
    {
      "cell_type": "markdown",
      "metadata": {},
      "source": [
        "Realizamos filtrado por:\n",
        "    -Tipo de propiedad\n",
        "    -Zona, que corresponda a capital\n",
        "    -Tipo de Operacion\n",
        "    -Tipo de moneda\n",
        "Tomamos en cuenta que es excluyente que los datos no tengan datos faltantes para realizar este primer filtro\n",
        "Vemos que el dataframe reduce su tamaño"
      ]
    },
    {
      "cell_type": "code",
      "execution_count": 40,
      "metadata": {},
      "outputs": [],
      "source": [
        "#CON ESTE COMANDO SE GUARDA\n",
        "#properati_limpio2 = pd.DataFrame(properati_limpio)\n",
        "#properati_limpio2.to_csv('properatilimpio.csv',index = False)"
      ]
    },
    {
      "cell_type": "code",
      "execution_count": 41,
      "metadata": {},
      "outputs": [
        {
          "data": {
            "text/plain": [
              "id                           object\n",
              "start_date                   object\n",
              "end_date                     object\n",
              "created_on                   object\n",
              "latitud                     float64\n",
              "longitud                    float64\n",
              "place_l2                     object\n",
              "place_l3                     object\n",
              "place_l4                     object\n",
              "place_l5                     object\n",
              "place_l6                    float64\n",
              "operation                    object\n",
              "property_type                object\n",
              "property_rooms              float64\n",
              "property_bedrooms           float64\n",
              "property_surface_total      float64\n",
              "property_surface_covered    float64\n",
              "property_price              float64\n",
              "property_currency            object\n",
              "property_title               object\n",
              "dtype: object"
            ]
          },
          "execution_count": 41,
          "metadata": {},
          "output_type": "execute_result"
        }
      ],
      "source": [
        "properati_limpio.dtypes"
      ]
    },
    {
      "cell_type": "markdown",
      "metadata": {},
      "source": [
        "Vemos que las columas *start_date, end_date y created_on* son tipo OBJECT, lo cual decidimos pasarlo a su tipo de dato correspondiente el cual es *datetime*"
      ]
    },
    {
      "cell_type": "code",
      "execution_count": 52,
      "metadata": {},
      "outputs": [],
      "source": [
        "#properati_limpio['start_date'].unique().size\n",
        "#properati2 = pd.to_datetime(properati_limpio['start_date'])\n",
        "#properati2.unique()"
      ]
    },
    {
      "cell_type": "code",
      "execution_count": 58,
      "metadata": {},
      "outputs": [
        {
          "data": {
            "text/html": [
              "<div>\n",
              "<style scoped>\n",
              "    .dataframe tbody tr th:only-of-type {\n",
              "        vertical-align: middle;\n",
              "    }\n",
              "\n",
              "    .dataframe tbody tr th {\n",
              "        vertical-align: top;\n",
              "    }\n",
              "\n",
              "    .dataframe thead th {\n",
              "        text-align: right;\n",
              "    }\n",
              "</style>\n",
              "<table border=\"1\" class=\"dataframe\">\n",
              "  <thead>\n",
              "    <tr style=\"text-align: right;\">\n",
              "      <th></th>\n",
              "      <th>id</th>\n",
              "      <th>start_date</th>\n",
              "      <th>end_date</th>\n",
              "      <th>created_on</th>\n",
              "      <th>latitud</th>\n",
              "      <th>longitud</th>\n",
              "      <th>place_l2</th>\n",
              "      <th>place_l3</th>\n",
              "      <th>place_l4</th>\n",
              "      <th>place_l5</th>\n",
              "      <th>place_l6</th>\n",
              "      <th>operation</th>\n",
              "      <th>property_type</th>\n",
              "      <th>property_rooms</th>\n",
              "      <th>property_bedrooms</th>\n",
              "      <th>property_surface_total</th>\n",
              "      <th>property_surface_covered</th>\n",
              "      <th>property_price</th>\n",
              "      <th>property_currency</th>\n",
              "      <th>property_title</th>\n",
              "    </tr>\n",
              "  </thead>\n",
              "  <tbody>\n",
              "    <tr>\n",
              "      <th>230935</th>\n",
              "      <td>MkAjgnqY718846QN3NHGGg==</td>\n",
              "      <td>2021-07-27</td>\n",
              "      <td>2021-10-06</td>\n",
              "      <td>2021-07-27</td>\n",
              "      <td>-34.554682</td>\n",
              "      <td>-58.478302</td>\n",
              "      <td>Capital Federal</td>\n",
              "      <td>Saavedra</td>\n",
              "      <td>NaN</td>\n",
              "      <td>NaN</td>\n",
              "      <td>NaN</td>\n",
              "      <td>Venta</td>\n",
              "      <td>Departamento</td>\n",
              "      <td>3.0</td>\n",
              "      <td>2.0</td>\n",
              "      <td>127.0</td>\n",
              "      <td>78.0</td>\n",
              "      <td>219000.0</td>\n",
              "      <td>USD</td>\n",
              "      <td>VENTA SAAVEDRA DUPLEX 3 AMBIENTES CON TERRAZA</td>\n",
              "    </tr>\n",
              "    <tr>\n",
              "      <th>111093</th>\n",
              "      <td>kLfpkVkZJFavNtzOa/iuhw==</td>\n",
              "      <td>2021-10-19</td>\n",
              "      <td>2022-01-27</td>\n",
              "      <td>2021-10-19</td>\n",
              "      <td>-34.610723</td>\n",
              "      <td>-58.394176</td>\n",
              "      <td>Capital Federal</td>\n",
              "      <td>Congreso</td>\n",
              "      <td>NaN</td>\n",
              "      <td>NaN</td>\n",
              "      <td>NaN</td>\n",
              "      <td>Venta</td>\n",
              "      <td>Departamento</td>\n",
              "      <td>3.0</td>\n",
              "      <td>2.0</td>\n",
              "      <td>NaN</td>\n",
              "      <td>62.0</td>\n",
              "      <td>97500.0</td>\n",
              "      <td>USD</td>\n",
              "      <td>Gran 2 ambientes a solo 2 cuadras del Congreso...</td>\n",
              "    </tr>\n",
              "    <tr>\n",
              "      <th>376991</th>\n",
              "      <td>fvsSd7SlsWoCXFDyZTW3YA==</td>\n",
              "      <td>2021-03-18</td>\n",
              "      <td>2021-06-05</td>\n",
              "      <td>2021-03-18</td>\n",
              "      <td>-34.610046</td>\n",
              "      <td>-58.361382</td>\n",
              "      <td>Capital Federal</td>\n",
              "      <td>Puerto Madero</td>\n",
              "      <td>NaN</td>\n",
              "      <td>NaN</td>\n",
              "      <td>NaN</td>\n",
              "      <td>Venta</td>\n",
              "      <td>Departamento</td>\n",
              "      <td>3.0</td>\n",
              "      <td>2.0</td>\n",
              "      <td>171.0</td>\n",
              "      <td>171.0</td>\n",
              "      <td>1000000.0</td>\n",
              "      <td>USD</td>\n",
              "      <td>Departamento - Puerto Madero</td>\n",
              "    </tr>\n",
              "    <tr>\n",
              "      <th>267784</th>\n",
              "      <td>DvMe86waQuCnR7ogK9gCPQ==</td>\n",
              "      <td>2021-07-09</td>\n",
              "      <td>2021-07-20</td>\n",
              "      <td>2021-07-09</td>\n",
              "      <td>-34.629075</td>\n",
              "      <td>-58.367129</td>\n",
              "      <td>Capital Federal</td>\n",
              "      <td>Boca</td>\n",
              "      <td>NaN</td>\n",
              "      <td>NaN</td>\n",
              "      <td>NaN</td>\n",
              "      <td>Venta</td>\n",
              "      <td>Departamento</td>\n",
              "      <td>2.0</td>\n",
              "      <td>1.0</td>\n",
              "      <td>41.0</td>\n",
              "      <td>38.0</td>\n",
              "      <td>60000.0</td>\n",
              "      <td>USD</td>\n",
              "      <td>VENTA IMPECABLE DEPARTAMENTO 2 AMBIENTES CON B...</td>\n",
              "    </tr>\n",
              "    <tr>\n",
              "      <th>437997</th>\n",
              "      <td>zTJvxpkcEhF0LbBgTG0a8Q==</td>\n",
              "      <td>2021-10-27</td>\n",
              "      <td>2021-11-03</td>\n",
              "      <td>2021-10-27</td>\n",
              "      <td>-34.575360</td>\n",
              "      <td>-58.441559</td>\n",
              "      <td>Capital Federal</td>\n",
              "      <td>Colegiales</td>\n",
              "      <td>NaN</td>\n",
              "      <td>NaN</td>\n",
              "      <td>NaN</td>\n",
              "      <td>Venta</td>\n",
              "      <td>Departamento</td>\n",
              "      <td>2.0</td>\n",
              "      <td>1.0</td>\n",
              "      <td>47.0</td>\n",
              "      <td>42.0</td>\n",
              "      <td>115150.0</td>\n",
              "      <td>USD</td>\n",
              "      <td>VENTA POZO 2 AMBIENTES C/BALCÓN (UF.504) COLEG...</td>\n",
              "    </tr>\n",
              "    <tr>\n",
              "      <th>...</th>\n",
              "      <td>...</td>\n",
              "      <td>...</td>\n",
              "      <td>...</td>\n",
              "      <td>...</td>\n",
              "      <td>...</td>\n",
              "      <td>...</td>\n",
              "      <td>...</td>\n",
              "      <td>...</td>\n",
              "      <td>...</td>\n",
              "      <td>...</td>\n",
              "      <td>...</td>\n",
              "      <td>...</td>\n",
              "      <td>...</td>\n",
              "      <td>...</td>\n",
              "      <td>...</td>\n",
              "      <td>...</td>\n",
              "      <td>...</td>\n",
              "      <td>...</td>\n",
              "      <td>...</td>\n",
              "      <td>...</td>\n",
              "    </tr>\n",
              "    <tr>\n",
              "      <th>135561</th>\n",
              "      <td>I2M3P7ziKULrgdRQQdG1zA==</td>\n",
              "      <td>2021-04-06</td>\n",
              "      <td>2021-04-06</td>\n",
              "      <td>2021-04-06</td>\n",
              "      <td>-34.613398</td>\n",
              "      <td>-58.359734</td>\n",
              "      <td>Capital Federal</td>\n",
              "      <td>Puerto Madero</td>\n",
              "      <td>NaN</td>\n",
              "      <td>NaN</td>\n",
              "      <td>NaN</td>\n",
              "      <td>Venta</td>\n",
              "      <td>Departamento</td>\n",
              "      <td>4.0</td>\n",
              "      <td>3.0</td>\n",
              "      <td>177.0</td>\n",
              "      <td>160.0</td>\n",
              "      <td>1090000.0</td>\n",
              "      <td>USD</td>\n",
              "      <td>Departamento - Puerto Madero</td>\n",
              "    </tr>\n",
              "    <tr>\n",
              "      <th>267906</th>\n",
              "      <td>+RU+k7s1E9VeBWJb853YFw==</td>\n",
              "      <td>2021-07-09</td>\n",
              "      <td>2022-03-31</td>\n",
              "      <td>2021-07-09</td>\n",
              "      <td>-34.604427</td>\n",
              "      <td>-58.418079</td>\n",
              "      <td>Capital Federal</td>\n",
              "      <td>Almagro</td>\n",
              "      <td>NaN</td>\n",
              "      <td>NaN</td>\n",
              "      <td>NaN</td>\n",
              "      <td>Venta</td>\n",
              "      <td>Departamento</td>\n",
              "      <td>1.0</td>\n",
              "      <td>NaN</td>\n",
              "      <td>32.0</td>\n",
              "      <td>30.0</td>\n",
              "      <td>68500.0</td>\n",
              "      <td>USD</td>\n",
              "      <td>Bajó de Precio! Vende ya!</td>\n",
              "    </tr>\n",
              "    <tr>\n",
              "      <th>252747</th>\n",
              "      <td>tzuJfgL4wUlu9Sz1iVN/aA==</td>\n",
              "      <td>2021-06-18</td>\n",
              "      <td>2021-06-19</td>\n",
              "      <td>2021-06-18</td>\n",
              "      <td>-34.638328</td>\n",
              "      <td>-58.473294</td>\n",
              "      <td>Capital Federal</td>\n",
              "      <td>Floresta</td>\n",
              "      <td>NaN</td>\n",
              "      <td>NaN</td>\n",
              "      <td>NaN</td>\n",
              "      <td>Venta</td>\n",
              "      <td>Departamento</td>\n",
              "      <td>1.0</td>\n",
              "      <td>NaN</td>\n",
              "      <td>41.0</td>\n",
              "      <td>27.0</td>\n",
              "      <td>58900.0</td>\n",
              "      <td>USD</td>\n",
              "      <td>VENTA MONOAMBIENTE FLORESTA CON PATIO A ESTRENAR</td>\n",
              "    </tr>\n",
              "    <tr>\n",
              "      <th>426120</th>\n",
              "      <td>0ksKHOfNFYWoAdR/EgIUAA==</td>\n",
              "      <td>2021-12-16</td>\n",
              "      <td>2022-01-27</td>\n",
              "      <td>2021-12-16</td>\n",
              "      <td>-34.592111</td>\n",
              "      <td>-58.432919</td>\n",
              "      <td>Capital Federal</td>\n",
              "      <td>Palermo</td>\n",
              "      <td>NaN</td>\n",
              "      <td>NaN</td>\n",
              "      <td>NaN</td>\n",
              "      <td>Venta</td>\n",
              "      <td>Departamento</td>\n",
              "      <td>1.0</td>\n",
              "      <td>1.0</td>\n",
              "      <td>40.0</td>\n",
              "      <td>37.0</td>\n",
              "      <td>81000.0</td>\n",
              "      <td>USD</td>\n",
              "      <td>Departamento - Palermo</td>\n",
              "    </tr>\n",
              "    <tr>\n",
              "      <th>393739</th>\n",
              "      <td>p+pEuoocx1FSBJyy+vxDcw==</td>\n",
              "      <td>2021-02-13</td>\n",
              "      <td>2021-03-01</td>\n",
              "      <td>2021-02-13</td>\n",
              "      <td>-34.576523</td>\n",
              "      <td>-58.507240</td>\n",
              "      <td>Capital Federal</td>\n",
              "      <td>Villa Pueyrredón</td>\n",
              "      <td>NaN</td>\n",
              "      <td>NaN</td>\n",
              "      <td>NaN</td>\n",
              "      <td>Venta</td>\n",
              "      <td>PH</td>\n",
              "      <td>3.0</td>\n",
              "      <td>2.0</td>\n",
              "      <td>80.0</td>\n",
              "      <td>70.0</td>\n",
              "      <td>139900.0</td>\n",
              "      <td>USD</td>\n",
              "      <td>PH 3 amb a estrenar c/ patio Villa Pueyrredon</td>\n",
              "    </tr>\n",
              "  </tbody>\n",
              "</table>\n",
              "<p>18850 rows × 20 columns</p>\n",
              "</div>"
            ],
            "text/plain": [
              "                              id  start_date    end_date  created_on  \\\n",
              "230935  MkAjgnqY718846QN3NHGGg==  2021-07-27  2021-10-06  2021-07-27   \n",
              "111093  kLfpkVkZJFavNtzOa/iuhw==  2021-10-19  2022-01-27  2021-10-19   \n",
              "376991  fvsSd7SlsWoCXFDyZTW3YA==  2021-03-18  2021-06-05  2021-03-18   \n",
              "267784  DvMe86waQuCnR7ogK9gCPQ==  2021-07-09  2021-07-20  2021-07-09   \n",
              "437997  zTJvxpkcEhF0LbBgTG0a8Q==  2021-10-27  2021-11-03  2021-10-27   \n",
              "...                          ...         ...         ...         ...   \n",
              "135561  I2M3P7ziKULrgdRQQdG1zA==  2021-04-06  2021-04-06  2021-04-06   \n",
              "267906  +RU+k7s1E9VeBWJb853YFw==  2021-07-09  2022-03-31  2021-07-09   \n",
              "252747  tzuJfgL4wUlu9Sz1iVN/aA==  2021-06-18  2021-06-19  2021-06-18   \n",
              "426120  0ksKHOfNFYWoAdR/EgIUAA==  2021-12-16  2022-01-27  2021-12-16   \n",
              "393739  p+pEuoocx1FSBJyy+vxDcw==  2021-02-13  2021-03-01  2021-02-13   \n",
              "\n",
              "          latitud   longitud         place_l2          place_l3 place_l4  \\\n",
              "230935 -34.554682 -58.478302  Capital Federal          Saavedra      NaN   \n",
              "111093 -34.610723 -58.394176  Capital Federal          Congreso      NaN   \n",
              "376991 -34.610046 -58.361382  Capital Federal     Puerto Madero      NaN   \n",
              "267784 -34.629075 -58.367129  Capital Federal              Boca      NaN   \n",
              "437997 -34.575360 -58.441559  Capital Federal        Colegiales      NaN   \n",
              "...           ...        ...              ...               ...      ...   \n",
              "135561 -34.613398 -58.359734  Capital Federal     Puerto Madero      NaN   \n",
              "267906 -34.604427 -58.418079  Capital Federal           Almagro      NaN   \n",
              "252747 -34.638328 -58.473294  Capital Federal          Floresta      NaN   \n",
              "426120 -34.592111 -58.432919  Capital Federal           Palermo      NaN   \n",
              "393739 -34.576523 -58.507240  Capital Federal  Villa Pueyrredón      NaN   \n",
              "\n",
              "       place_l5  place_l6 operation property_type  property_rooms  \\\n",
              "230935      NaN       NaN     Venta  Departamento             3.0   \n",
              "111093      NaN       NaN     Venta  Departamento             3.0   \n",
              "376991      NaN       NaN     Venta  Departamento             3.0   \n",
              "267784      NaN       NaN     Venta  Departamento             2.0   \n",
              "437997      NaN       NaN     Venta  Departamento             2.0   \n",
              "...         ...       ...       ...           ...             ...   \n",
              "135561      NaN       NaN     Venta  Departamento             4.0   \n",
              "267906      NaN       NaN     Venta  Departamento             1.0   \n",
              "252747      NaN       NaN     Venta  Departamento             1.0   \n",
              "426120      NaN       NaN     Venta  Departamento             1.0   \n",
              "393739      NaN       NaN     Venta            PH             3.0   \n",
              "\n",
              "        property_bedrooms  property_surface_total  property_surface_covered  \\\n",
              "230935                2.0                   127.0                      78.0   \n",
              "111093                2.0                     NaN                      62.0   \n",
              "376991                2.0                   171.0                     171.0   \n",
              "267784                1.0                    41.0                      38.0   \n",
              "437997                1.0                    47.0                      42.0   \n",
              "...                   ...                     ...                       ...   \n",
              "135561                3.0                   177.0                     160.0   \n",
              "267906                NaN                    32.0                      30.0   \n",
              "252747                NaN                    41.0                      27.0   \n",
              "426120                1.0                    40.0                      37.0   \n",
              "393739                2.0                    80.0                      70.0   \n",
              "\n",
              "        property_price property_currency  \\\n",
              "230935        219000.0               USD   \n",
              "111093         97500.0               USD   \n",
              "376991       1000000.0               USD   \n",
              "267784         60000.0               USD   \n",
              "437997        115150.0               USD   \n",
              "...                ...               ...   \n",
              "135561       1090000.0               USD   \n",
              "267906         68500.0               USD   \n",
              "252747         58900.0               USD   \n",
              "426120         81000.0               USD   \n",
              "393739        139900.0               USD   \n",
              "\n",
              "                                           property_title  \n",
              "230935      VENTA SAAVEDRA DUPLEX 3 AMBIENTES CON TERRAZA  \n",
              "111093  Gran 2 ambientes a solo 2 cuadras del Congreso...  \n",
              "376991                       Departamento - Puerto Madero  \n",
              "267784  VENTA IMPECABLE DEPARTAMENTO 2 AMBIENTES CON B...  \n",
              "437997  VENTA POZO 2 AMBIENTES C/BALCÓN (UF.504) COLEG...  \n",
              "...                                                   ...  \n",
              "135561                       Departamento - Puerto Madero  \n",
              "267906                          Bajó de Precio! Vende ya!  \n",
              "252747   VENTA MONOAMBIENTE FLORESTA CON PATIO A ESTRENAR  \n",
              "426120                             Departamento - Palermo  \n",
              "393739      PH 3 amb a estrenar c/ patio Villa Pueyrredon  \n",
              "\n",
              "[18850 rows x 20 columns]"
            ]
          },
          "execution_count": 58,
          "metadata": {},
          "output_type": "execute_result"
        }
      ],
      "source": [
        "from sklearn.model_selection import train_test_split\n",
        "\n",
        "train_set, train_test = train_test_split(properati_limpio, test_size = 0.2, random_state = 1)\n"
      ]
    }
  ],
  "metadata": {
    "colab": {
      "collapsed_sections": [],
      "include_colab_link": true,
      "provenance": []
    },
    "kernelspec": {
      "display_name": "Python 3.10.4 64-bit",
      "language": "python",
      "name": "python3"
    },
    "language_info": {
      "codemirror_mode": {
        "name": "ipython",
        "version": 3
      },
      "file_extension": ".py",
      "mimetype": "text/x-python",
      "name": "python",
      "nbconvert_exporter": "python",
      "pygments_lexer": "ipython3",
      "version": "3.10.4"
    },
    "vscode": {
      "interpreter": {
        "hash": "369f2c481f4da34e4445cda3fffd2e751bd1c4d706f27375911949ba6bb62e1c"
      }
    }
  },
  "nbformat": 4,
  "nbformat_minor": 0
}
