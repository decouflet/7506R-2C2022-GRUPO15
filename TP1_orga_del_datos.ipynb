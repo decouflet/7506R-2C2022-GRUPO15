{
  "cells": [
    {
      "cell_type": "markdown",
      "metadata": {
        "colab_type": "text",
        "id": "view-in-github"
      },
      "source": [
        "<a href=\"https://colab.research.google.com/github/decouflet/7506R-2C2022-GRUPO15/blob/main/TP1_orga_del_datos.ipynb\" target=\"_parent\"><img src=\"https://colab.research.google.com/assets/colab-badge.svg\" alt=\"Open In Colab\"/></a>"
      ]
    },
    {
      "cell_type": "markdown",
      "metadata": {},
      "source": [
        "TP1"
      ]
    },
    {
      "cell_type": "code",
      "execution_count": 1,
      "metadata": {},
      "outputs": [],
      "source": [
        "#Manipulacion de datos y funciones matemáticas\n",
        "import pandas as pd\n",
        "import numpy as np\n",
        "\n",
        "#Visualizaciones\n",
        "import seaborn as sns\n",
        "import matplotlib.pyplot as plt\n",
        "\n",
        "#Modelo Lineal\n",
        "from sklearn.linear_model import LinearRegression\n",
        "\n",
        "#Metricas para evaluar modelos\n",
        "from sklearn import metrics"
      ]
    },
    {
      "cell_type": "code",
      "execution_count": 2,
      "metadata": {
        "id": "wvrlZgBXPxH6"
      },
      "outputs": [],
      "source": [
        "import pandas as pd\n",
        "\n",
        "properati = pd.read_csv('./properati_argentina_2021.csv')"
      ]
    },
    {
      "cell_type": "code",
      "execution_count": 3,
      "metadata": {
        "colab": {
          "base_uri": "https://localhost:8080/"
        },
        "id": "V_CDlY-nRvte",
        "outputId": "c4721ac6-bc20-4616-8865-021c7c1e8e1c"
      },
      "outputs": [
        {
          "data": {
            "text/plain": [
              "(460154, 20)"
            ]
          },
          "execution_count": 3,
          "metadata": {},
          "output_type": "execute_result"
        }
      ],
      "source": [
        "properati.shape"
      ]
    },
    {
      "cell_type": "markdown",
      "metadata": {},
      "source": [
        "Hay 460154 filas y 20 columnas"
      ]
    },
    {
      "cell_type": "code",
      "execution_count": 4,
      "metadata": {},
      "outputs": [
        {
          "name": "stdout",
          "output_type": "stream",
          "text": [
            "<class 'pandas.core.frame.DataFrame'>\n",
            "RangeIndex: 460154 entries, 0 to 460153\n",
            "Data columns (total 20 columns):\n",
            " #   Column                    Non-Null Count   Dtype  \n",
            "---  ------                    --------------   -----  \n",
            " 0   id                        460154 non-null  object \n",
            " 1   start_date                460154 non-null  object \n",
            " 2   end_date                  460154 non-null  object \n",
            " 3   created_on                460154 non-null  object \n",
            " 4   latitud                   419740 non-null  float64\n",
            " 5   longitud                  419740 non-null  float64\n",
            " 6   place_l2                  460154 non-null  object \n",
            " 7   place_l3                  437665 non-null  object \n",
            " 8   place_l4                  139020 non-null  object \n",
            " 9   place_l5                  2430 non-null    object \n",
            " 10  place_l6                  0 non-null       float64\n",
            " 11  operation                 460154 non-null  object \n",
            " 12  property_type             460154 non-null  object \n",
            " 13  property_rooms            368498 non-null  float64\n",
            " 14  property_bedrooms         344113 non-null  float64\n",
            " 15  property_surface_total    397813 non-null  float64\n",
            " 16  property_surface_covered  427916 non-null  float64\n",
            " 17  property_price            442153 non-null  float64\n",
            " 18  property_currency         441590 non-null  object \n",
            " 19  property_title            460154 non-null  object \n",
            "dtypes: float64(8), object(12)\n",
            "memory usage: 70.2+ MB\n"
          ]
        }
      ],
      "source": [
        "properati.info()"
      ]
    },
    {
      "cell_type": "markdown",
      "metadata": {},
      "source": [
        "Mostramos un poco de informacion en general del dataset"
      ]
    },
    {
      "cell_type": "code",
      "execution_count": 5,
      "metadata": {},
      "outputs": [
        {
          "data": {
            "text/plain": [
              "id                           object\n",
              "start_date                   object\n",
              "end_date                     object\n",
              "created_on                   object\n",
              "latitud                     float64\n",
              "longitud                    float64\n",
              "place_l2                     object\n",
              "place_l3                     object\n",
              "place_l4                     object\n",
              "place_l5                     object\n",
              "place_l6                    float64\n",
              "operation                    object\n",
              "property_type                object\n",
              "property_rooms              float64\n",
              "property_bedrooms           float64\n",
              "property_surface_total      float64\n",
              "property_surface_covered    float64\n",
              "property_price              float64\n",
              "property_currency            object\n",
              "property_title               object\n",
              "dtype: object"
            ]
          },
          "execution_count": 5,
          "metadata": {},
          "output_type": "execute_result"
        }
      ],
      "source": [
        "properati.dtypes"
      ]
    },
    {
      "cell_type": "markdown",
      "metadata": {},
      "source": [
        "Estos son los tipos de las 20 columnas"
      ]
    },
    {
      "cell_type": "code",
      "execution_count": 6,
      "metadata": {},
      "outputs": [
        {
          "data": {
            "text/plain": [
              "id                               0\n",
              "start_date                       0\n",
              "end_date                         0\n",
              "created_on                       0\n",
              "latitud                      40414\n",
              "longitud                     40414\n",
              "place_l2                         0\n",
              "place_l3                     22489\n",
              "place_l4                    321134\n",
              "place_l5                    457724\n",
              "place_l6                    460154\n",
              "operation                        0\n",
              "property_type                    0\n",
              "property_rooms               91656\n",
              "property_bedrooms           116041\n",
              "property_surface_total       62341\n",
              "property_surface_covered     32238\n",
              "property_price               18001\n",
              "property_currency            18564\n",
              "property_title                   0\n",
              "dtype: int64"
            ]
          },
          "execution_count": 6,
          "metadata": {},
          "output_type": "execute_result"
        }
      ],
      "source": [
        "properati.isnull().sum()"
      ]
    },
    {
      "cell_type": "markdown",
      "metadata": {},
      "source": [
        "Vemos que hay filas con datos faltantes"
      ]
    },
    {
      "cell_type": "code",
      "execution_count": 7,
      "metadata": {},
      "outputs": [
        {
          "data": {
            "text/plain": [
              "(94249, 20)"
            ]
          },
          "execution_count": 7,
          "metadata": {},
          "output_type": "execute_result"
        }
      ],
      "source": [
        "\n",
        "properati_casa_depto = properati[properati.property_type.isin(['Casa', 'PH','Departamento'])]\n",
        "properati_zona = properati_casa_depto[properati_casa_depto.place_l2.isin(['Capital Federal'])]\n",
        "properati_operacion = properati_zona[properati_zona.operation.isin(['Venta'])]\n",
        "properati_limpio = properati_operacion[properati_operacion.property_currency.isin(['USD'])]\n",
        "properati_limpio.shape"
      ]
    },
    {
      "cell_type": "markdown",
      "metadata": {},
      "source": [
        "Realizamos filtrado por:\n",
        "    -Tipo de propiedad\n",
        "    -Zona, que corresponda a capital\n",
        "    -Tipo de Operacion\n",
        "    -Tipo de moneda\n",
        "Tomamos en cuenta que es excluyente que los datos no tengan datos faltantes para realizar este primer filtro\n",
        "Vemos que el dataframe reduce su tamaño"
      ]
    },
    {
      "cell_type": "code",
      "execution_count": 8,
      "metadata": {},
      "outputs": [],
      "source": [
        "#CON ESTE COMANDO SE GUARDA\n",
        "#properati_limpio2 = pd.DataFrame(properati_limpio)\n",
        "#properati_limpio2.to_csv('properatilimpio.csv',index = False)"
      ]
    },
    {
      "cell_type": "code",
      "execution_count": 47,
      "metadata": {},
      "outputs": [
        {
          "name": "stdout",
          "output_type": "stream",
          "text": [
            "['Casa', 'Departamento', 'PH']\n"
          ]
        },
        {
          "ename": "KeyError",
          "evalue": "'property_type'",
          "output_type": "error",
          "traceback": [
            "\u001b[1;31m---------------------------------------------------------------------------\u001b[0m",
            "\u001b[1;31mKeyError\u001b[0m                                  Traceback (most recent call last)",
            "File \u001b[1;32mc:\\Users\\Admin\\AppData\\Local\\Programs\\Python\\Python39\\lib\\site-packages\\pandas\\core\\indexes\\base.py:3629\u001b[0m, in \u001b[0;36mIndex.get_loc\u001b[1;34m(self, key, method, tolerance)\u001b[0m\n\u001b[0;32m   3628\u001b[0m \u001b[39mtry\u001b[39;00m:\n\u001b[1;32m-> 3629\u001b[0m     \u001b[39mreturn\u001b[39;00m \u001b[39mself\u001b[39;49m\u001b[39m.\u001b[39;49m_engine\u001b[39m.\u001b[39;49mget_loc(casted_key)\n\u001b[0;32m   3630\u001b[0m \u001b[39mexcept\u001b[39;00m \u001b[39mKeyError\u001b[39;00m \u001b[39mas\u001b[39;00m err:\n",
            "File \u001b[1;32mc:\\Users\\Admin\\AppData\\Local\\Programs\\Python\\Python39\\lib\\site-packages\\pandas\\_libs\\index.pyx:136\u001b[0m, in \u001b[0;36mpandas._libs.index.IndexEngine.get_loc\u001b[1;34m()\u001b[0m\n",
            "File \u001b[1;32mc:\\Users\\Admin\\AppData\\Local\\Programs\\Python\\Python39\\lib\\site-packages\\pandas\\_libs\\index.pyx:163\u001b[0m, in \u001b[0;36mpandas._libs.index.IndexEngine.get_loc\u001b[1;34m()\u001b[0m\n",
            "File \u001b[1;32mpandas\\_libs\\hashtable_class_helper.pxi:5198\u001b[0m, in \u001b[0;36mpandas._libs.hashtable.PyObjectHashTable.get_item\u001b[1;34m()\u001b[0m\n",
            "File \u001b[1;32mpandas\\_libs\\hashtable_class_helper.pxi:5206\u001b[0m, in \u001b[0;36mpandas._libs.hashtable.PyObjectHashTable.get_item\u001b[1;34m()\u001b[0m\n",
            "\u001b[1;31mKeyError\u001b[0m: 'property_type'",
            "\nThe above exception was the direct cause of the following exception:\n",
            "\u001b[1;31mKeyError\u001b[0m                                  Traceback (most recent call last)",
            "Cell \u001b[1;32mIn [47], line 11\u001b[0m\n\u001b[0;32m      9\u001b[0m eje_x \u001b[38;5;241m=\u001b[39m ds_agrupado_property_type\u001b[38;5;241m.\u001b[39mindex\u001b[38;5;241m.\u001b[39mtolist()   \u001b[38;5;66;03m## Declaramos valores para el eje x\u001b[39;00m\n\u001b[0;32m     10\u001b[0m \u001b[38;5;28mprint\u001b[39m(eje_x)\n\u001b[1;32m---> 11\u001b[0m eje_y \u001b[38;5;241m=\u001b[39m \u001b[43mds_agrupado_property_type\u001b[49m\u001b[43m[\u001b[49m\u001b[38;5;124;43m\"\u001b[39;49m\u001b[38;5;124;43mproperty_type\u001b[39;49m\u001b[38;5;124;43m\"\u001b[39;49m\u001b[43m]\u001b[49m\u001b[38;5;241m.\u001b[39mtolist()  \u001b[38;5;66;03m## Declaramos valores para el eje y\u001b[39;00m\n\u001b[0;32m     12\u001b[0m \u001b[38;5;66;03m#print(eje_y)\u001b[39;00m\n\u001b[0;32m     14\u001b[0m plt\u001b[38;5;241m.\u001b[39mlocator_params(\u001b[38;5;124m'\u001b[39m\u001b[38;5;124mx\u001b[39m\u001b[38;5;124m'\u001b[39m, nbins\u001b[38;5;241m=\u001b[39m\u001b[38;5;241m3\u001b[39m)\n",
            "File \u001b[1;32mc:\\Users\\Admin\\AppData\\Local\\Programs\\Python\\Python39\\lib\\site-packages\\pandas\\core\\frame.py:3505\u001b[0m, in \u001b[0;36mDataFrame.__getitem__\u001b[1;34m(self, key)\u001b[0m\n\u001b[0;32m   3503\u001b[0m \u001b[39mif\u001b[39;00m \u001b[39mself\u001b[39m\u001b[39m.\u001b[39mcolumns\u001b[39m.\u001b[39mnlevels \u001b[39m>\u001b[39m \u001b[39m1\u001b[39m:\n\u001b[0;32m   3504\u001b[0m     \u001b[39mreturn\u001b[39;00m \u001b[39mself\u001b[39m\u001b[39m.\u001b[39m_getitem_multilevel(key)\n\u001b[1;32m-> 3505\u001b[0m indexer \u001b[39m=\u001b[39m \u001b[39mself\u001b[39;49m\u001b[39m.\u001b[39;49mcolumns\u001b[39m.\u001b[39;49mget_loc(key)\n\u001b[0;32m   3506\u001b[0m \u001b[39mif\u001b[39;00m is_integer(indexer):\n\u001b[0;32m   3507\u001b[0m     indexer \u001b[39m=\u001b[39m [indexer]\n",
            "File \u001b[1;32mc:\\Users\\Admin\\AppData\\Local\\Programs\\Python\\Python39\\lib\\site-packages\\pandas\\core\\indexes\\base.py:3631\u001b[0m, in \u001b[0;36mIndex.get_loc\u001b[1;34m(self, key, method, tolerance)\u001b[0m\n\u001b[0;32m   3629\u001b[0m     \u001b[39mreturn\u001b[39;00m \u001b[39mself\u001b[39m\u001b[39m.\u001b[39m_engine\u001b[39m.\u001b[39mget_loc(casted_key)\n\u001b[0;32m   3630\u001b[0m \u001b[39mexcept\u001b[39;00m \u001b[39mKeyError\u001b[39;00m \u001b[39mas\u001b[39;00m err:\n\u001b[1;32m-> 3631\u001b[0m     \u001b[39mraise\u001b[39;00m \u001b[39mKeyError\u001b[39;00m(key) \u001b[39mfrom\u001b[39;00m \u001b[39merr\u001b[39;00m\n\u001b[0;32m   3632\u001b[0m \u001b[39mexcept\u001b[39;00m \u001b[39mTypeError\u001b[39;00m:\n\u001b[0;32m   3633\u001b[0m     \u001b[39m# If we have a listlike key, _check_indexing_error will raise\u001b[39;00m\n\u001b[0;32m   3634\u001b[0m     \u001b[39m#  InvalidIndexError. Otherwise we fall through and re-raise\u001b[39;00m\n\u001b[0;32m   3635\u001b[0m     \u001b[39m#  the TypeError.\u001b[39;00m\n\u001b[0;32m   3636\u001b[0m     \u001b[39mself\u001b[39m\u001b[39m.\u001b[39m_check_indexing_error(key)\n",
            "\u001b[1;31mKeyError\u001b[0m: 'property_type'"
          ]
        }
      ],
      "source": [
        "properati_limpio.dtypes\n",
        "\n",
        "properati_limpio.describe()\n",
        "#Medidas de resumen de las variables cuantitativas continuas \n",
        "\n",
        "ds_agrupado_property_type=properati_limpio.groupby(['property_type']).count()  #Calculo la frecuencia de cada tipo de propiedad\n",
        "\n",
        "#print(ds_agrupado_property_type)\n",
        "eje_x = ds_agrupado_property_type.index.tolist()   ## Declaramos valores para el eje x\n",
        "print(eje_x)\n",
        "eje_y = ds_agrupado_property_type[\"property_type\"].tolist()  ## Declaramos valores para el eje y\n",
        "#print(eje_y)\n",
        "\n",
        "plt.locator_params('x', nbins=3)\n",
        "plt.bar(eje_x, eje_y) ## Creamos Gráfica\n",
        "\n",
        "plt.ylabel('Property') ## Leyenda en el eje y\n",
        "plt.xlabel('Frecuencia') ## Leyenda en el eje x \n",
        "plt.title('Frecuencia de cada tipo de propiedad') ## Título de Gráfica\n",
        " \n",
        "plt.show()\n",
        "\n",
        "#ERROR: error al querer desplegar la visualizacion de la frecuencia del tipo de propiedades"
      ]
    },
    {
      "cell_type": "markdown",
      "metadata": {},
      "source": [
        "Vemos que las columas *start_date, end_date y created_on* son tipo OBJECT, lo cual decidimos pasarlo a su tipo de dato correspondiente el cual es *datetime*"
      ]
    },
    {
      "cell_type": "code",
      "execution_count": 10,
      "metadata": {},
      "outputs": [],
      "source": [
        "#properati_limpio['start_date'].unique().size\n",
        "#properati2 = pd.to_datetime(properati_limpio['start_date'])\n",
        "#properati2.unique()"
      ]
    },
    {
      "cell_type": "code",
      "execution_count": 11,
      "metadata": {},
      "outputs": [],
      "source": [
        "from sklearn.model_selection import train_test_split\n",
        "\n",
        "train_set, train_test = train_test_split(properati_limpio, test_size = 0.2, random_state = 1)\n"
      ]
    }
  ],
  "metadata": {
    "colab": {
      "collapsed_sections": [],
      "include_colab_link": true,
      "provenance": []
    },
    "kernelspec": {
      "display_name": "Python 3.10.4 64-bit",
      "language": "python",
      "name": "python3"
    },
    "language_info": {
      "codemirror_mode": {
        "name": "ipython",
        "version": 3
      },
      "file_extension": ".py",
      "mimetype": "text/x-python",
      "name": "python",
      "nbconvert_exporter": "python",
      "pygments_lexer": "ipython3",
      "version": "3.10.4"
    },
    "vscode": {
      "interpreter": {
        "hash": "369f2c481f4da34e4445cda3fffd2e751bd1c4d706f27375911949ba6bb62e1c"
      }
    }
  },
  "nbformat": 4,
  "nbformat_minor": 0
}
